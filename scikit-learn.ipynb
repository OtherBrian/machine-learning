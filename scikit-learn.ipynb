{
 "cells": [
  {
   "cell_type": "code",
   "execution_count": null,
   "metadata": {},
   "outputs": [],
   "source": [
    "from sklearn.model_selection import train_test_split\n",
    "from sklearn.metrics import r2_score, mean_squared_error, confusion_matrix, rand_score\n",
    "from sklearn.cluster import KMeans\n",
    "from sklearn.tree import DecisionTreeRegressor, DecisionTreeClassifier\n",
    "from sklearn.ensemble import RandomForestClassifier, RandomForestRegressor\n",
    "from sklearn.svm import LinearSVR, LinearSVC\n",
    "import matplotlib.pyplot as plt\n",
    "import seaborn as sns\n",
    "import pandas as pd"
   ]
  },
  {
   "cell_type": "markdown",
   "metadata": {},
   "source": [
    "# Introduce the notebook, link to binder and nbviewer."
   ]
  },
  {
   "cell_type": "markdown",
   "metadata": {},
   "source": [
    "# Introduce Scikit-Learn\n",
    "* What is it?\n",
    "* What can it be used for? Pipelines, model selection, models, preprocessing, etc.\n",
    "* Why is it popular? Lots of support, works well with other Python data science modules, e.g. numpy and pandas\n",
    "\n",
    "## Introduce the datasets I'll use\n",
    "* One for regression\n",
    "* One for classification / Clustering.\n",
    "\n",
    "REMEMBER - THIS IS NOT ABOUT THE DATA ITSELF, IT'S ABOUT THE PACKAGE AND THE ALGORITHMS!"
   ]
  },
  {
   "cell_type": "markdown",
   "metadata": {},
   "source": [
    "# Random Forest\n",
    "\n",
    "* Introduce decision tree and how it works.\n",
    "* Discuss pros & cons\n",
    "* Introduce explainability of decision trees (visualize).\n",
    "* Run a tree on the dataset and visualize.\n",
    "* Introduce ensemble methods,\n",
    "* Introduce Random Forest\n",
    "* Discuss classification and regressor variants.\n",
    "* Introduce MSE for regression and Confusion Matrix for classification.\n",
    "* Run a forest on each dataset, visualize and do mse/confusion matrix.\n",
    "* Discuss how we might optimize the algorithm - nodes, leaves, number of trees, etc."
   ]
  },
  {
   "cell_type": "markdown",
   "metadata": {},
   "source": [
    "# Support Vector Machines\n",
    "\n",
    "* Introduce SVM and how it works\n",
    "* Discuss pros and cons\n",
    "* Visualize how it works\n",
    "* Run SVC and SVR on the dataset\n",
    "* Do MSE and Confusion Matrix on results.\n",
    "* Visualize results.\n",
    "* Discuss how it could be optimized."
   ]
  },
  {
   "cell_type": "markdown",
   "metadata": {},
   "source": [
    "# K Means\n",
    "\n",
    "* Introduce the algorithm.\n",
    "* Discuss difference between unsurpervised (this) and supervised (the other 2).\n",
    "* Two different types - KMeans and KMeans++. Discuss the differences.\n",
    "* Introduce Rand Score as a scoring mechanism.\n",
    "* Run it on data set, visualize and do a rand score.\n",
    "* Discuss how it might be optimized, changing K etc."
   ]
  },
  {
   "cell_type": "markdown",
   "metadata": {},
   "source": [
    "# Resources\n",
    "\n",
    "* Train Test Split - https://scikit-learn.org/stable/modules/generated/sklearn.model_selection.train_test_split.html?highlight=train%20test%20split#sklearn.model_selection.train_test_split\n",
    "\n",
    "* R2 score - https://scikit-learn.org/stable/modules/generated/sklearn.metrics.r2_score.html#sklearn.metrics.r2_score\n",
    "\n",
    "* MSE - https://scikit-learn.org/stable/modules/generated/sklearn.metrics.mean_squared_error.html#sklearn.metrics.mean_squared_error\n",
    "\n",
    "* Confusion Matrix - https://scikit-learn.org/stable/modules/generated/sklearn.metrics.confusion_matrix.html#sklearn.metrics.confusion_matrix\n",
    "\n",
    "* Rand Score (Clustering) - https://scikit-learn.org/stable/modules/clustering.html#clustering-evaluation\n",
    "\n",
    "* KMeans Clustering - https://scikit-learn.org/stable/modules/generated/sklearn.cluster.KMeans.html#sklearn.cluster.KMeans\n",
    "\n",
    "* Decision Tree Classification - https://scikit-learn.org/stable/modules/tree.html#classification\n",
    "\n",
    "* Decision Tree Regression - https://scikit-learn.org/stable/modules/tree.html#regression\n",
    "\n",
    "* Random Forest Regression - https://scikit-learn.org/stable/modules/generated/sklearn.ensemble.RandomForestRegressor.html\n",
    "\n",
    "* Random Forest classification - https://scikit-learn.org/stable/modules/generated/sklearn.ensemble.RandomForestClassifier.html#sklearn.ensemble.RandomForestClassifier\n",
    "\n",
    "* SVM Classification - https://scikit-learn.org/stable/modules/svm.html#classification\n",
    "* https://scikit-learn.org/stable/modules/generated/sklearn.svm.LinearSVC.html#sklearn.svm.LinearSVC\n",
    "\n",
    "* SVM Regression - https://scikit-learn.org/stable/modules/svm.html#regression\n",
    "* https://scikit-learn.org/stable/modules/generated/sklearn.svm.LinearSVR.html#sklearn.svm.LinearSVR"
   ]
  }
 ],
 "metadata": {
  "kernelspec": {
   "display_name": "Python 3",
   "language": "python",
   "name": "python3"
  },
  "language_info": {
   "codemirror_mode": {
    "name": "ipython",
    "version": 3
   },
   "file_extension": ".py",
   "mimetype": "text/x-python",
   "name": "python",
   "nbconvert_exporter": "python",
   "pygments_lexer": "ipython3",
   "version": "3.8.5"
  }
 },
 "nbformat": 4,
 "nbformat_minor": 4
}
