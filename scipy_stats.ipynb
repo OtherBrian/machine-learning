{
 "cells": [
  {
   "cell_type": "markdown",
   "metadata": {},
   "source": [
    "# Scipy Stats & Anova\n",
    "\n",
    "This Jupyter Notebook is part of Brian Doheny's submission for the 2021/22 Machine Learning module at Galway-Mayo Insitute of Technology.\n",
    "\n",
    "In this notebook you will find an introduction to the Scipy.Stats Python library, alongside explanations and examples of the ANOVA analysis technique.\n",
    "\n",
    "[![nbviewer](https://raw.githubusercontent.com/jupyter/design/master/logos/Badges/nbviewer_badge.svg)](https://nbviewer.org/github/OtherBrian/machine-learning/blob/main/scipy_stats.ipynb)\n",
    "\n",
    "### Binder link here"
   ]
  },
  {
   "cell_type": "markdown",
   "metadata": {},
   "source": [
    "# What is Scipy?\n",
    "\n",
    "Scipy is an open source Python library that allows users to perform a multitude of science related programming (https://scipy.github.io/devdocs/tutorial/index.html#user-guide), and is one of the foundations of the Python Data Science toolkit for analysts, data scientists and more. As with many such libraries Scipy is built with Numpy in mind, and like Numpy, Scipy is built to be fast so that it can handle large amounts of data quickly and effectively (https://scipy.org/). \n",
    "\n",
    "While Scipy can be used for tasks such as optimization, integration and multidimensional image processing(, in this notebook I will be concentrating on the Stats subpackage. \n",
    "\n",
    "## Scipy.Stats\n",
    "\n",
    "The Scipy.Stats sub-package provides functionality for statistical analyses, and is home to the Python implementations of many of the statistical tests that analysts and data scientists need in their day to day work. For example, the T-Test (https://scipy.github.io/devdocs/reference/generated/scipy.stats.ttest_1samp.html#scipy.stats.ttest_1samp), Chi Square Test (https://scipy.github.io/devdocs/reference/generated/scipy.stats.chisquare.html#scipy.stats.chisquare) and ANOVA (https://scipy.github.io/devdocs/reference/generated/scipy.stats.f_oneway.html#scipy.stats.f_oneway) can all be found within Scipy.Stats alongside many more.\n",
    "\n",
    "As well as these tests, Scipy also offers an extended range of summary and frequency statistics that are otherwise not available in Numpy. For example, one use Numpy to get the mean, median and such for their array, but will have to use Scipy.Stats if they wish to measure the kurtosis (https://scipy.github.io/devdocs/reference/generated/scipy.stats.kurtosis.html#scipy.stats.kurtosis) or skew (https://docs.scipy.org/doc/scipy/reference/generated/scipy.stats.skew.html) of that array.\n",
    "\n",
    "Scipy also offers functionality for generating random data according to various probability distributions, offering a wider range than is otherwise available via Numpy.Random, such as mysterious sounding Crystalball Distribution (https://scipy.github.io/devdocs/reference/generated/scipy.stats.crystalball.html#scipy.stats.crystalball). Users can also transform their data so that it fits specific statistical tests via functions such as Box-Cox(https://scipy.github.io/devdocs/reference/generated/scipy.stats.boxcox.html#scipy.stats.boxcox) or Yeo-Johnson (https://scipy.github.io/devdocs/reference/generated/scipy.stats.yeojohnson.html#scipy.stats.yeojohnson).\n",
    "\n",
    "Throughout the remainder of this notebook, I will be focusing on Scipy.Stats ANOVA functionality. This includes the ANOVA (https://scipy.github.io/devdocs/reference/generated/scipy.stats.f_oneway.html#scipy.stats.f_oneway) test itself, the tests to confirm that ANOVA is suitable for the given dataset, and some variations of ANOVA to be used when ANOVA conditions are not totally ideal."
   ]
  },
  {
   "cell_type": "markdown",
   "metadata": {},
   "source": [
    "# ANOVA (Analysis of Variance)\n",
    "\n",
    "## What is ANOVA?\n",
    "\n",
    "Analysis of Variance tests, more commonly referred to as ANOVA, is a statistical test that is used to check whether two or more groups from within a given population have significant differences. It does this by comparing the variance of the observations within each group as well as taking the mean value of each group into account(https://www.qualtrics.com/uk/experience-management/research/anova/), and producing an F statistic which can be used to derive a P-Value. This P-Value tells us what probability there would be of getting such an extreme F statistic purely by chance (i.e. if there were no actual difference between the two groups) (https://www.statisticshowto.com/probability-and-statistics/f-statistic-value-test/), and so it's common practice to accepted a P-Value less than 0.05 as being \"statistically significant\", as it represents a less than 5% probability that these results were due to chance. Some industries or use-cases may require somewhat different P-Value thresholds, depending on the risks of a Type 1 or Type 2 error.\n",
    "\n",
    "## Hypothesis Testing\n",
    "\n",
    "When running experiments or performing observational analysis on different groups, such as would be the case with ANOVA, we must start off with a hypothesis that we wish to test for. This hypothesis clearly details the difference we expect to see from the treatment, or across the various groups, and thus clarifies exactly which measure will be used in the statistical tests to be performed (i.e. ANOVA in this case). For example, in a randomized drug test the hypothesis may be that the drug lowers the blood pressure of the people taking the drug after a certain amount of time.\n",
    "\n",
    "### Null and Alternate Hypothesis\n",
    "\n",
    "With our initial hypothesis detailing what we expect to see, we can then create a null hypothesis and an alternate hypothesis. The alternate hypothesis is simply that change that you anticipate. So in my prior example, the alternate hypothesis would be \"patients that take this drug have lower blood pressure by 5% after X amount of time\".\n",
    "\n",
    "Meanwhile the Null Hypothesis is opposite of the Alternate Hypothesis, and stats that there is no change or meaningful difference between groups. In the drug trial example, the null hypothesis would be \"patients that take this drug see no change in their blood pressure after x amount of time\".\n",
    "\n",
    "As the analysis is performed, it is the null hypothesis that is assumed to be true until we find statistically significant evidence that it can be rejected and the alternate hypothesis accepted. It should be noted that the term \"hypothesis\" is used here for good reason, as rejecting the null hypothesis does not necessarily mean that the alternate hypothesis is the true cause of the change or difference, but that without other alternative hypotheses it can be accepted until such a time as it to is rejected.\n",
    "\n",
    "This is where the P-Value kicks in. The P-Value tells us the probability of having encountered results as extreme as the results found in the given analysis if there were no notable difference. If the P-Value is high, then the probability of the results being down to chance is high, and therefore there isn't sufficient evidence to reject the null hypothesis. However, if the P-Value is low (usually below 0.05) then the null hypothesis can be confidently rejected, and the alternate hypothesis accepted. \n",
    "\n",
    "The null hypothesis and threshold for the P-Value is set before the experiment or analysis begins, so as to prevent \"P-Hacking\" whereby results can be massaged or thresholds changed in order to promote a seemingly stastically significant result, that otherwise wouldn't have rejected the null hypothesis (https://scienceinthenewsroom.org/resources/statistical-p-hacking-explained/). P-Hacking is not neccessarily a conscious decision, as our own biases can mean we accept results that otherwise wouldn't be significant, and so it's important that we set the thresholds before we begin the analysis so that these errors don't crop up.\n",
    "\n",
    "(https://www.analyticsvidhya.com/blog/2021/01/an-introduction-to-hypothesis-testing/)\n",
    "\n",
    "\n",
    "### Type I & Type II Errors\n",
    "\n",
    "We use P-Values as a threshold for whether or not to reject a null hypothesis, as it limits the likelihood of an error being made. In hypothesis testing, errors fall into two main categories known as Type I Errors and Type II Errors.\n",
    "\n",
    "Type I Errors are false positive results. In these situations the null hypothesis would be rejected when it's actually the more correct of the two hypotheses. By setting a P-Value threshold of 5% or lower,  we will only reject the null hypothesis if our results would only be this extreme 5% or less of the time. This means we can at least be confident that our results at least 95% likely to be significant, and so the risk of a Type I error having occured is 5% or less. However, if P-hacking has taken place, then the likelihood of a Type I error increases.\n",
    "\n",
    "Type II Errors are false negatives. In these situations the null hypothesis was not rejected, when it actually should. This may be due to the distribution of the observed samples not fully representing the population, or that the measure used in the analysis was not the one that was actually impacted. The risk of type II errors can be reduced by increasing the statistiacl power of the analysis by increaseing the sample size, increasing the size of the effect we are measuring for (e.g. instead of looking for a 5% improvement, look for 10%), or by raising the P-Value threshold (with obvious knock on effects for more potential Type 1 errors). \n",
    "\n",
    "<img src=\"https://github.com/OtherBrian/machine-learning/blob/main/images/errors.png?raw=true\" alt=\"example of classifier\" style=\"width: 600px;\"/>\n",
    "\n",
    "While analysts aim to avoid either error when designing their experiments, Type I errors are generally seen as the more critical of the two. This is because a Type I Error rejecting the null hypothesis, and thus accepting a new insight and possibly new actions as a result, whereas a Type II Error maintains the status quo. In most scenarios, taking action based on a Type I Error has the potential to cause more damage then carrying on with the status quo (as would be the case with a Type II error). This may not be true in all scenarios, as there may be situations where inaction is the larger risk.\n",
    "\n",
    "\n",
    "https://www.scribbr.com/statistics/type-i-and-type-ii-errors/"
   ]
  },
  {
   "cell_type": "markdown",
   "metadata": {},
   "source": [
    "## When can we use ANOVA?\n",
    "\n",
    "https://statistics.laerd.com/spss-tutorials/one-way-anova-using-spss-statistics.php\n",
    "\n",
    "Not all datasets are suitable for a standard ANOVA analysis, and so there are six guiding assumptions that should apply to a dataset before applying the ANOVA technique. In the event that one or more of these guiding assumptions are not met, there may be alternative versions of ANOVA available, or else the analyst will have to explore other analysis techniques to use in their situation.\n",
    "\n",
    "### 1. The dependent variable is continuous.\n",
    "\n",
    "As ANOVA uses the mean and variance to compare the dependent variable in each group, it is therefore important that the dependent variable itself is continuous. For example variance generally cannot be measured on categorical variables, and so wouldn't provide one of the key measures necessary for ANOVA.\n",
    "\n",
    "### 2. The independent variables are spread across at least 2 or 3 groups.\n",
    "\n",
    "The goal with ANOVA is to see if the dependent variable is sufficiently different between each group within the dataset, and so it figures that we would need a few distinct groups to perform the analysis on. Therefore a minimum of 2 groups are required, although it should be noted that when there are just 2 groups present, we could use an T test instead of ANOVA. The benefits of ANOVA really kick in once we get to 3 groups or more.\n",
    "\n",
    "### 3. Observations must be independent.\n",
    "\n",
    "Each observation should not be impacted by the other observations in its own group, or in the groups around it. In the event that observations are not completely independent, we may see our results impacted by bias and external factors. For example if we look at the salary of three students after 15 years, these measures will be independent (most of the time) as the salary of one student should not impact the salary of another. However, if we are measuring how many grams of cake were eaten at a party by the three students, and there's a limited supply of cake, then we may see that one students cake eating capacity was hampered by the voraciousness of another student and thus the results would be misleading.\n",
    "\n",
    "### 4. No significant outliers should be present within the dataset.\n",
    "\n",
    "ANOVA uses variance and mean in order to compare the groups within the dataset, and so any outliers have the potential to significantly skew those two measures and thus impact the results. Using the students example above, if one of those students was Mark Zuckerberg then we might conclude that dropping out of college leads to the highest salary after 15 years.\n",
    "\n",
    "### 5. The dependent variable should be normally distributed for each group.\n",
    "\n",
    "As variance and mean are the two measures used to compare the groups, we should ensure that the distributions are approximately normally distributed. We can do this by plotting the dependent variable into a histogram for each group, or make use of some handy statistical tests which I'll be introducing later in this notebook.\n",
    "\n",
    "### 6. There should be homogeneity of variances\n",
    "\n",
    "Again, as Variance is one of the main measures being used for ANOVA, it's important that the variances are somewhat similar. If one of the groups has a variance that is significantly different to the others (i.e. very low and very high values) then it will impact the trustworthiness of our results.\n",
    "\n",
    "As mentioned above, there are workarounds and other flavours of ANOVA available if one or more of these assumptions are not met. I will introduce some of these when we go through the Students dataset later. For now though, let's go through a dataset that is perfectly ideal for ANOVA and meets all of these assumptions - the diet dataset."
   ]
  },
  {
   "cell_type": "markdown",
   "metadata": {},
   "source": [
    "# Anova Examples\n",
    "\n",
    "## The Diet Dataset - an ideal ANOVA toy dataset\n",
    "\n",
    "To show how we can test for each of the above 6 assumptions, I'll first walk us through the Diet dataset. I have acquired this dataset from [Sheffield University's datasets for teaching](https://www.sheffield.ac.uk/mash/statistics/datasets). \n",
    "\n",
    "This dataset contains the details and measurements of 78 people that each went through a particular diet for a period of 6 weeks. The variables present include their gender, age, height, their weight prior to the diet starting, their weight after six weeks, and which diet they were on. There are 3 possible diets that an individual could be on, and there was no switching between the diets.\n",
    "\n",
    "For this ANOVA analysis, we will look at the difference in weight before and after 6 weeks of the diet for the participants that were on each of the 3 diets.\n",
    "\n",
    "Continuous dependent variable: change in weight (Pre diet weight - 6 week diet weight)\n",
    "Independent categorical variables: Diet (1, 2 or 3).\n",
    "\n",
    "First, I'll import the Python libraries that I'll be using to perform the ANOVA and to visualize the data."
   ]
  },
  {
   "cell_type": "code",
   "execution_count": 1,
   "metadata": {},
   "outputs": [],
   "source": [
    "import pandas as pd\n",
    "import matplotlib.pyplot as plt\n",
    "import seaborn as sns\n",
    "import numpy as np"
   ]
  },
  {
   "cell_type": "markdown",
   "metadata": {},
   "source": [
    "I'll now load the dataset into a Pandas dataframe."
   ]
  },
  {
   "cell_type": "code",
   "execution_count": 2,
   "metadata": {
    "scrolled": true
   },
   "outputs": [
    {
     "name": "stdout",
     "output_type": "stream",
     "text": [
      "There are 78 observations in this datset.\n"
     ]
    },
    {
     "data": {
      "text/html": [
       "<div>\n",
       "<style scoped>\n",
       "    .dataframe tbody tr th:only-of-type {\n",
       "        vertical-align: middle;\n",
       "    }\n",
       "\n",
       "    .dataframe tbody tr th {\n",
       "        vertical-align: top;\n",
       "    }\n",
       "\n",
       "    .dataframe thead th {\n",
       "        text-align: right;\n",
       "    }\n",
       "</style>\n",
       "<table border=\"1\" class=\"dataframe\">\n",
       "  <thead>\n",
       "    <tr style=\"text-align: right;\">\n",
       "      <th></th>\n",
       "      <th>Person</th>\n",
       "      <th>gender</th>\n",
       "      <th>Age</th>\n",
       "      <th>Height</th>\n",
       "      <th>pre.weight</th>\n",
       "      <th>Diet</th>\n",
       "      <th>weight6weeks</th>\n",
       "    </tr>\n",
       "  </thead>\n",
       "  <tbody>\n",
       "    <tr>\n",
       "      <th>0</th>\n",
       "      <td>25</td>\n",
       "      <td></td>\n",
       "      <td>41</td>\n",
       "      <td>171</td>\n",
       "      <td>60</td>\n",
       "      <td>2</td>\n",
       "      <td>60.0</td>\n",
       "    </tr>\n",
       "    <tr>\n",
       "      <th>1</th>\n",
       "      <td>26</td>\n",
       "      <td></td>\n",
       "      <td>32</td>\n",
       "      <td>174</td>\n",
       "      <td>103</td>\n",
       "      <td>2</td>\n",
       "      <td>103.0</td>\n",
       "    </tr>\n",
       "    <tr>\n",
       "      <th>2</th>\n",
       "      <td>1</td>\n",
       "      <td>0</td>\n",
       "      <td>22</td>\n",
       "      <td>159</td>\n",
       "      <td>58</td>\n",
       "      <td>1</td>\n",
       "      <td>54.2</td>\n",
       "    </tr>\n",
       "    <tr>\n",
       "      <th>3</th>\n",
       "      <td>2</td>\n",
       "      <td>0</td>\n",
       "      <td>46</td>\n",
       "      <td>192</td>\n",
       "      <td>60</td>\n",
       "      <td>1</td>\n",
       "      <td>54.0</td>\n",
       "    </tr>\n",
       "    <tr>\n",
       "      <th>4</th>\n",
       "      <td>3</td>\n",
       "      <td>0</td>\n",
       "      <td>55</td>\n",
       "      <td>170</td>\n",
       "      <td>64</td>\n",
       "      <td>1</td>\n",
       "      <td>63.3</td>\n",
       "    </tr>\n",
       "  </tbody>\n",
       "</table>\n",
       "</div>"
      ],
      "text/plain": [
       "   Person gender  Age  Height  pre.weight  Diet  weight6weeks\n",
       "0      25          41     171          60     2          60.0\n",
       "1      26          32     174         103     2         103.0\n",
       "2       1      0   22     159          58     1          54.2\n",
       "3       2      0   46     192          60     1          54.0\n",
       "4       3      0   55     170          64     1          63.3"
      ]
     },
     "execution_count": 2,
     "metadata": {},
     "output_type": "execute_result"
    }
   ],
   "source": [
    "diet_df = pd.read_csv('https://raw.githubusercontent.com/OtherBrian/machine-learning/main/datasets/diet.csv')\n",
    "\n",
    "print(f\"There are {len(diet_df)} observations in this datset.\")\n",
    "\n",
    "diet_df.head()"
   ]
  },
  {
   "cell_type": "markdown",
   "metadata": {},
   "source": [
    "Immediately we can that the first two observations are missing data. They have no gender entered, and their pre.weight and weight6weeks values are exactly the same. I'm therefore assuming that for whatever reason these could not be completed, and so I will only include observations that have all values present."
   ]
  },
  {
   "cell_type": "code",
   "execution_count": 3,
   "metadata": {},
   "outputs": [
    {
     "name": "stdout",
     "output_type": "stream",
     "text": [
      "There are now 76 observations in this datset.\n"
     ]
    }
   ],
   "source": [
    "# A few observations don't have a value for gender, and have no difference in pre/post weight. Removing these.\n",
    "diet_df = diet_df[diet_df['gender'].isin(['0', '1'])]\n",
    "\n",
    "print(f\"There are now {len(diet_df)} observations in this datset.\")\n"
   ]
  },
  {
   "cell_type": "markdown",
   "metadata": {},
   "source": [
    "We've lost two observations, but 76 observations are still sufficient for what we need. We can also check how the observations are split between the groups."
   ]
  },
  {
   "cell_type": "code",
   "execution_count": 4,
   "metadata": {},
   "outputs": [
    {
     "data": {
      "text/plain": [
       "3    27\n",
       "2    25\n",
       "1    24\n",
       "Name: Diet, dtype: int64"
      ]
     },
     "execution_count": 4,
     "metadata": {},
     "output_type": "execute_result"
    }
   ],
   "source": [
    "# Check how many observations are in each group\n",
    "\n",
    "diet_df['Diet'].value_counts()"
   ]
  },
  {
   "cell_type": "markdown",
   "metadata": {},
   "source": [
    "At present our dataset shows the weight before the diet and after, whereas we want to see the change in weight, as that will be our dependent variable. I'll therefore create a new column called \"weightChange\" to calculate this."
   ]
  },
  {
   "cell_type": "code",
   "execution_count": 5,
   "metadata": {
    "scrolled": true
   },
   "outputs": [
    {
     "data": {
      "text/html": [
       "<div>\n",
       "<style scoped>\n",
       "    .dataframe tbody tr th:only-of-type {\n",
       "        vertical-align: middle;\n",
       "    }\n",
       "\n",
       "    .dataframe tbody tr th {\n",
       "        vertical-align: top;\n",
       "    }\n",
       "\n",
       "    .dataframe thead th {\n",
       "        text-align: right;\n",
       "    }\n",
       "</style>\n",
       "<table border=\"1\" class=\"dataframe\">\n",
       "  <thead>\n",
       "    <tr style=\"text-align: right;\">\n",
       "      <th></th>\n",
       "      <th>Person</th>\n",
       "      <th>gender</th>\n",
       "      <th>Age</th>\n",
       "      <th>Height</th>\n",
       "      <th>pre.weight</th>\n",
       "      <th>Diet</th>\n",
       "      <th>weight6weeks</th>\n",
       "      <th>weightChange</th>\n",
       "    </tr>\n",
       "  </thead>\n",
       "  <tbody>\n",
       "    <tr>\n",
       "      <th>2</th>\n",
       "      <td>1</td>\n",
       "      <td>0</td>\n",
       "      <td>22</td>\n",
       "      <td>159</td>\n",
       "      <td>58</td>\n",
       "      <td>1</td>\n",
       "      <td>54.2</td>\n",
       "      <td>3.8</td>\n",
       "    </tr>\n",
       "    <tr>\n",
       "      <th>3</th>\n",
       "      <td>2</td>\n",
       "      <td>0</td>\n",
       "      <td>46</td>\n",
       "      <td>192</td>\n",
       "      <td>60</td>\n",
       "      <td>1</td>\n",
       "      <td>54.0</td>\n",
       "      <td>6.0</td>\n",
       "    </tr>\n",
       "    <tr>\n",
       "      <th>4</th>\n",
       "      <td>3</td>\n",
       "      <td>0</td>\n",
       "      <td>55</td>\n",
       "      <td>170</td>\n",
       "      <td>64</td>\n",
       "      <td>1</td>\n",
       "      <td>63.3</td>\n",
       "      <td>0.7</td>\n",
       "    </tr>\n",
       "    <tr>\n",
       "      <th>5</th>\n",
       "      <td>4</td>\n",
       "      <td>0</td>\n",
       "      <td>33</td>\n",
       "      <td>171</td>\n",
       "      <td>64</td>\n",
       "      <td>1</td>\n",
       "      <td>61.1</td>\n",
       "      <td>2.9</td>\n",
       "    </tr>\n",
       "    <tr>\n",
       "      <th>6</th>\n",
       "      <td>5</td>\n",
       "      <td>0</td>\n",
       "      <td>50</td>\n",
       "      <td>170</td>\n",
       "      <td>65</td>\n",
       "      <td>1</td>\n",
       "      <td>62.2</td>\n",
       "      <td>2.8</td>\n",
       "    </tr>\n",
       "  </tbody>\n",
       "</table>\n",
       "</div>"
      ],
      "text/plain": [
       "   Person gender  Age  Height  pre.weight  Diet  weight6weeks  weightChange\n",
       "2       1      0   22     159          58     1          54.2           3.8\n",
       "3       2      0   46     192          60     1          54.0           6.0\n",
       "4       3      0   55     170          64     1          63.3           0.7\n",
       "5       4      0   33     171          64     1          61.1           2.9\n",
       "6       5      0   50     170          65     1          62.2           2.8"
      ]
     },
     "execution_count": 5,
     "metadata": {},
     "output_type": "execute_result"
    }
   ],
   "source": [
    "# Going to measure the weight change from each diet \n",
    "diet_df['weightChange'] = diet_df['pre.weight'] - diet_df['weight6weeks']\n",
    "\n",
    "diet_df.head()"
   ]
  },
  {
   "cell_type": "markdown",
   "metadata": {},
   "source": [
    "Now that our dataset is cleaned (it was very clean already!), I'll create three copies of the dataframe, one for each of the three diets."
   ]
  },
  {
   "cell_type": "code",
   "execution_count": 6,
   "metadata": {},
   "outputs": [],
   "source": [
    "# Splitting into DataFrames for each of the diets.\n",
    "\n",
    "diet1 = diet_df[diet_df['Diet'] == 1]\n",
    "diet2 = diet_df[diet_df['Diet'] == 2]\n",
    "diet3 = diet_df[diet_df['Diet'] == 3]"
   ]
  },
  {
   "cell_type": "markdown",
   "metadata": {},
   "source": [
    "At this point the dataset has met assumptions 1 (continuous dependent variable), 2 (categorical indepedent variable) and 3 (observations must be dependent). In order to check for the remaining three assumptions, we'll need to explore the dataset a bit more."
   ]
  },
  {
   "cell_type": "markdown",
   "metadata": {},
   "source": [
    "### Exploratory Data Analysis"
   ]
  },
  {
   "cell_type": "markdown",
   "metadata": {},
   "source": [
    "In order to check for significant outliers in our three dataframes, I'll now calculate their mean weightChange values and plot distribution each as a histogram. This will also give us some clue as to whether or not they are normally distributed. I'll include a Kernel Density Estimate on each histogram, as this will give us a bit more insight into how normal our three distributions actually are."
   ]
  },
  {
   "cell_type": "code",
   "execution_count": 7,
   "metadata": {},
   "outputs": [
    {
     "name": "stdout",
     "output_type": "stream",
     "text": [
      "Average weightChange for diet1: 3.3\n",
      "Average weightChange for diet2: 3.27\n",
      "Average weightChange for diet3: 5.15\n"
     ]
    }
   ],
   "source": [
    "print(f\"Average weightChange for diet1: {round(diet1['weightChange'].mean(),2)}\")\n",
    "print(f\"Average weightChange for diet2: {round(diet2['weightChange'].mean(),2)}\")\n",
    "print(f\"Average weightChange for diet3: {round(diet3['weightChange'].mean(),2)}\")"
   ]
  },
  {
   "cell_type": "code",
   "execution_count": 8,
   "metadata": {},
   "outputs": [
    {
     "data": {
      "image/png": "[encoded data removed]",
      "text/plain": [
       "<Figure size 648x216 with 3 Axes>"
      ]
     },
     "metadata": {
      "needs_background": "light"
     },
     "output_type": "display_data"
    }
   ],
   "source": [
    "g = sns.FacetGrid(diet_df, col=\"Diet\")\n",
    "g.map_dataframe(sns.histplot, x=\"weightChange\", kde=True)\n",
    "g.set_axis_labels(\"Weight Change\", \"Count\")\n",
    "g.fig.suptitle(\"Weight Change distributions for each Diet\", y=1.05);"
   ]
  },
  {
   "cell_type": "markdown",
   "metadata": {},
   "source": [
    "While each group has a slightly different shape, we don't see any outliers on either of them. We can therefore say that assumption 4 (no outliers) has also been met. \n",
    "\n",
    "All three histograms also look appropriately normally distributed, with Diet 3 generally having larger values, and the larger mean. To confirm that these are normally distributed, we can utilize the Shapiro-Wilk test of normality. This null hypothesis for this test is that the data comes from a normal distribution. Therefore is the P-value is below 0.05, we would assume that the null hypothesis is false and that the data therefore does not come from a normal distribution. (https://en.wikipedia.org/wiki/Shapiro%E2%80%93Wilk_test) \n",
    "\n",
    "Fortunately, Scipy.Stats is able to perform the Shapiro-Wilk test for us. Remember, we're hoping that the P-value is above 0.05, as that would mean that the data comes from a normal distribution and thus meets assumption 5."
   ]
  },
  {
   "cell_type": "code",
   "execution_count": 9,
   "metadata": {},
   "outputs": [
    {
     "name": "stdout",
     "output_type": "stream",
     "text": [
      "diet1 Shapiro-Wilk P-value: 0.07748671621084213\n",
      "diet1 is normally Distributed!\n",
      "\n",
      "diet2 Shapiro-Wilk P-value: 0.8721737861633301\n",
      "diet2 is normally Distributed!\n",
      "\n",
      "diet3 Shapiro-Wilk P-value: 0.37203603982925415\n",
      "diet3 is normally Distributed!\n",
      "\n"
     ]
    }
   ],
   "source": [
    "from scipy import stats\n",
    "\n",
    "diets = {\"diet1\" : diet1, \n",
    "         \"diet2\" : diet2, \n",
    "         \"diet3\" : diet3}\n",
    "\n",
    "for diet_name, diet_data in diets.items():\n",
    "    pvalue = stats.shapiro(diet_data['weightChange'])[1]\n",
    "    print(f\"{diet_name} Shapiro-Wilk P-value: {pvalue}\")\n",
    "    if pvalue < 0.05:\n",
    "        print(f\"{diet_name} is not normally distributed!\\n\")\n",
    "    else:\n",
    "        print(f\"{diet_name} is normally Distributed!\\n\")\n",
    "\n"
   ]
  },
  {
   "cell_type": "markdown",
   "metadata": {},
   "source": [
    "All three of the distributions met the null hypothesis that they are from normal distributions. This dataset has therefore passed assumption 5. \n",
    "\n",
    "Now for the final assumption - homogeneity of variance. For this we can use Levene's test, which has the null hypothesis that the variances are approximately equal. Again we can use Scipy.stats to perform this test (https://docs.scipy.org/doc/scipy/reference/generated/scipy.stats.levene.html), and again we're looking for a pvalue above 0.05 in order to confirm homogeneity of variance across the three groups."
   ]
  },
  {
   "cell_type": "code",
   "execution_count": 10,
   "metadata": {},
   "outputs": [
    {
     "name": "stdout",
     "output_type": "stream",
     "text": [
      "Levene's test P-value: 0.6312856401117967\n",
      "The groups do have homogeneity of variance!\n"
     ]
    }
   ],
   "source": [
    "pvalue = stats.levene(diet1['weightChange'], diet2['weightChange'], diet3['weightChange'])[1]\n",
    "\n",
    "print(f\"Levene's test P-value: {pvalue}\")\n",
    "if pvalue < 0.05:\n",
    "    print(\"The groups do not have homogeneity of variance!\")\n",
    "else:\n",
    "    print(\"The groups do have homogeneity of variance!\")"
   ]
  },
  {
   "cell_type": "markdown",
   "metadata": {},
   "source": [
    "This dataset has now passed assumption 6. That means it meets all of the assumptions of ANOVA, so we can progress with the analysis!"
   ]
  },
  {
   "cell_type": "markdown",
   "metadata": {},
   "source": [
    "### One way Anova\n",
    "\n",
    "Going through the six assumptions above has given us the confidence that this dataset is suitable for ANOVA, and has actually done a lot of the heavy lifting we would need for an analysis. From here, it's simply one line of code from Scipy.stats to perform the actual ANOVA. We just need to use the f_oneway function with the dependent variable from each group (https://docs.scipy.org/doc/scipy/reference/generated/scipy.stats.f_oneway.html). Here the null hypothesis is that all of the groups are the same, and that there is no significant difference between them. Therefore a P-value below 0.05 would allow us to reject that null hypothesis and would suggest that there is a difference between the three groups."
   ]
  },
  {
   "cell_type": "code",
   "execution_count": 11,
   "metadata": {},
   "outputs": [
    {
     "name": "stdout",
     "output_type": "stream",
     "text": [
      "ANOVA P-value: 0.006595853108669741\n",
      "The groups are significantly different!\n"
     ]
    }
   ],
   "source": [
    "pvalue = stats.f_oneway(diet1['weightChange'], diet2['weightChange'], diet3['weightChange'])[1]\n",
    "\n",
    "print(f\"ANOVA P-value: {pvalue}\")\n",
    "if pvalue < 0.05:\n",
    "    print(\"The groups are significantly different!\")\n",
    "else:\n",
    "    print(\"The groups are not significantly different!\")"
   ]
  },
  {
   "cell_type": "markdown",
   "metadata": {},
   "source": [
    "There we have it! There is a statistically significant difference in the weight loss observations across the three groups. However, this doesn't tell us which groups are different to each other, only that there is a difference. In situations such as this, we can use post-hoc analysis to provide more granular insight into the differences between each group.\n",
    "\n",
    "#### Why run Post-Hoc analysis? Why not perform T-Tests for each combination?\n",
    "We generally assume significant if the p-value is less than 0.05. This means there's a 5% chance that we'll make a Type 1 error (https://www.scribbr.com/statistics/type-i-and-type-ii-errors/) and conclude that the results are statistically significant when they are in fact not. However, if we run multiple tests, each with a 5% chance of having a Type 1 error, then the likelihood of there being at least one Type 1 error increases as we do more tests(https://statisticsbyjim.com/anova/post-hoc-tests-anova/). You can find a humorous example of this via the popular webcomic XKCD (https://xkcd.com/882/): \n",
    "\n",
    "![here](https://imgs.xkcd.com/comics/significant.png)\n",
    "\n",
    "Post-Hoc analyses adjust the P-Value for each combination of tests, and thus reduce the risks of making such Type 1 errors.\n",
    "\n",
    "For situations like this where we've been able to use standard ANOVA due to homogeneity of variance, we are able to use the Tukey's HSD test to see which groups differ with the others(https://sciencing.com/what-is-the-tukey-hsd-test-12751748.html. At the time of writing Scipy.stats does not include this feature, and so I will be using another popular statistical library called Statsmodels. It's also worth pointing out that whereas Scipy.stats is more geared towards arrays, Statsmodels is aim more at Pandas Dataframes, so I will be using the original diet_df here.\n",
    "\n",
    "https://www.statsmodels.org/dev/generated/statsmodels.stats.multicomp.pairwise_tukeyhsd.html\n",
    "https://www.statology.org/tukey-test-python/"
   ]
  },
  {
   "cell_type": "code",
   "execution_count": 12,
   "metadata": {
    "scrolled": true
   },
   "outputs": [
    {
     "name": "stdout",
     "output_type": "stream",
     "text": [
      "Multiple Comparison of Means - Tukey HSD, FWER=0.05\n",
      "===================================================\n",
      "group1 group2 meandiff p-adj   lower  upper  reject\n",
      "---------------------------------------------------\n",
      "     1      2   -0.032    0.9 -1.6531 1.5891  False\n",
      "     1      3   1.8481 0.0188  0.2567 3.4396   True\n",
      "     2      3   1.8801 0.0152  0.3057 3.4546   True\n",
      "---------------------------------------------------\n"
     ]
    }
   ],
   "source": [
    "from statsmodels.stats.multicomp import pairwise_tukeyhsd\n",
    "\n",
    "\n",
    "# endog is the dependent variable (weightChange).\n",
    "# groups is the independent variable (Diet).\n",
    "# alpha is the p-value threshold. In this case anything below 0.05 will reject the null hypothesis.\n",
    "tukey = pairwise_tukeyhsd(endog=diet_df['weightChange'],\n",
    "                          groups=diet_df['Diet'],\n",
    "                          alpha=0.05)\n",
    "\n",
    "print(tukey)"
   ]
  },
  {
   "cell_type": "markdown",
   "metadata": {},
   "source": [
    "As we look at this table, the main value we're focusing on is the p-adj value. If this is below 0.05, then we can reject the null hypothesis that all groups are the same. Fortunately the table also explicitly tells us this in the final column, \"reject\". \n",
    "\n",
    "### Conclusion\n",
    "\n",
    "From this we can see that diets 1 and 3 are significantly different, and diets 2 and 3 are significantly difference. We previously saw that diet 3 generally had large weightChange values, and had the larger average weightChange, and so we can conclude that that increase in weightChange for diet 3 was statistically significant.\n",
    "\n",
    "That diet dataset is a popular dataset for teaching ANOVA as it passes all of the assumptions quite neatly and requires very little cleaning or pre-processing. Unfortunately we're unlikely to encounter such data in the real world as data is often messy, missing values and does always pass all six assumptions. In order to demonstrate this, I will now perform an ANOVA analysis on a more realistic dataset."
   ]
  },
  {
   "cell_type": "markdown",
   "metadata": {},
   "source": [
    "\n",
    "## Students Dataset - Closer to the real world\n",
    "\n",
    "The students dataset, made available via [FREIE UNIVERSITÄT BERLIN](https://www.geo.fu-berlin.de/en/v/soga/Basics-of-statistics/ANOVA/One-way-ANOVA-Hypothesis-Test/index.html) contains 8239 across various subject areas, and includes details such as test scores, height, weight, gender, salary, releigion and their salary.\n",
    "\n",
    "For my one-way ANOVA analysis, I will use the Salary as my dependent variable, and the student's Major as my independent variable. A student cannot have two majors, and the future salary of a political science major should (hopefully) have no impact on the salary of an environmental sciences major.\n",
    "\n",
    "### Importing Dataset & Exploratory Data Analysis\n",
    "\n",
    "First, I'll import the data from a CSV file, and do some exploratory data analysis to get an idea of what I'm working with."
   ]
  },
  {
   "cell_type": "code",
   "execution_count": 13,
   "metadata": {
    "scrolled": true
   },
   "outputs": [
    {
     "name": "stdout",
     "output_type": "stream",
     "text": [
      "There are 8239 observations in this dataset.\n"
     ]
    },
    {
     "data": {
      "text/html": [
       "<div>\n",
       "<style scoped>\n",
       "    .dataframe tbody tr th:only-of-type {\n",
       "        vertical-align: middle;\n",
       "    }\n",
       "\n",
       "    .dataframe tbody tr th {\n",
       "        vertical-align: top;\n",
       "    }\n",
       "\n",
       "    .dataframe thead th {\n",
       "        text-align: right;\n",
       "    }\n",
       "</style>\n",
       "<table border=\"1\" class=\"dataframe\">\n",
       "  <thead>\n",
       "    <tr style=\"text-align: right;\">\n",
       "      <th></th>\n",
       "      <th>row</th>\n",
       "      <th>stud.id</th>\n",
       "      <th>name</th>\n",
       "      <th>gender</th>\n",
       "      <th>age</th>\n",
       "      <th>height</th>\n",
       "      <th>weight</th>\n",
       "      <th>religion</th>\n",
       "      <th>nc.score</th>\n",
       "      <th>semester</th>\n",
       "      <th>major</th>\n",
       "      <th>minor</th>\n",
       "      <th>score1</th>\n",
       "      <th>score2</th>\n",
       "      <th>online.tutorial</th>\n",
       "      <th>graduated</th>\n",
       "      <th>salary</th>\n",
       "    </tr>\n",
       "  </thead>\n",
       "  <tbody>\n",
       "    <tr>\n",
       "      <th>0</th>\n",
       "      <td>1</td>\n",
       "      <td>833917</td>\n",
       "      <td>Gonzales, Christina</td>\n",
       "      <td>Female</td>\n",
       "      <td>19</td>\n",
       "      <td>160</td>\n",
       "      <td>64.8</td>\n",
       "      <td>Muslim</td>\n",
       "      <td>1.91</td>\n",
       "      <td>1st</td>\n",
       "      <td>Political Science</td>\n",
       "      <td>Social Sciences</td>\n",
       "      <td>NaN</td>\n",
       "      <td>NaN</td>\n",
       "      <td>0</td>\n",
       "      <td>0</td>\n",
       "      <td>NaN</td>\n",
       "    </tr>\n",
       "    <tr>\n",
       "      <th>1</th>\n",
       "      <td>2</td>\n",
       "      <td>898539</td>\n",
       "      <td>Lozano, T'Hani</td>\n",
       "      <td>Female</td>\n",
       "      <td>19</td>\n",
       "      <td>172</td>\n",
       "      <td>73.0</td>\n",
       "      <td>Other</td>\n",
       "      <td>1.56</td>\n",
       "      <td>2nd</td>\n",
       "      <td>Social Sciences</td>\n",
       "      <td>Mathematics and Statistics</td>\n",
       "      <td>NaN</td>\n",
       "      <td>NaN</td>\n",
       "      <td>0</td>\n",
       "      <td>0</td>\n",
       "      <td>NaN</td>\n",
       "    </tr>\n",
       "    <tr>\n",
       "      <th>2</th>\n",
       "      <td>3</td>\n",
       "      <td>379678</td>\n",
       "      <td>Williams, Hanh</td>\n",
       "      <td>Female</td>\n",
       "      <td>22</td>\n",
       "      <td>168</td>\n",
       "      <td>70.6</td>\n",
       "      <td>Protestant</td>\n",
       "      <td>1.24</td>\n",
       "      <td>3rd</td>\n",
       "      <td>Social Sciences</td>\n",
       "      <td>Mathematics and Statistics</td>\n",
       "      <td>45.0</td>\n",
       "      <td>46.0</td>\n",
       "      <td>0</td>\n",
       "      <td>0</td>\n",
       "      <td>NaN</td>\n",
       "    </tr>\n",
       "    <tr>\n",
       "      <th>3</th>\n",
       "      <td>4</td>\n",
       "      <td>807564</td>\n",
       "      <td>Nem, Denzel</td>\n",
       "      <td>Male</td>\n",
       "      <td>19</td>\n",
       "      <td>183</td>\n",
       "      <td>79.7</td>\n",
       "      <td>Other</td>\n",
       "      <td>1.37</td>\n",
       "      <td>2nd</td>\n",
       "      <td>Environmental Sciences</td>\n",
       "      <td>Mathematics and Statistics</td>\n",
       "      <td>NaN</td>\n",
       "      <td>NaN</td>\n",
       "      <td>0</td>\n",
       "      <td>0</td>\n",
       "      <td>NaN</td>\n",
       "    </tr>\n",
       "    <tr>\n",
       "      <th>4</th>\n",
       "      <td>5</td>\n",
       "      <td>383291</td>\n",
       "      <td>Powell, Heather</td>\n",
       "      <td>Female</td>\n",
       "      <td>21</td>\n",
       "      <td>175</td>\n",
       "      <td>71.4</td>\n",
       "      <td>Catholic</td>\n",
       "      <td>1.46</td>\n",
       "      <td>1st</td>\n",
       "      <td>Environmental Sciences</td>\n",
       "      <td>Mathematics and Statistics</td>\n",
       "      <td>NaN</td>\n",
       "      <td>NaN</td>\n",
       "      <td>0</td>\n",
       "      <td>0</td>\n",
       "      <td>NaN</td>\n",
       "    </tr>\n",
       "  </tbody>\n",
       "</table>\n",
       "</div>"
      ],
      "text/plain": [
       "   row  stud.id                 name  gender  age  height  weight    religion  \\\n",
       "0    1   833917  Gonzales, Christina  Female   19     160    64.8      Muslim   \n",
       "1    2   898539       Lozano, T'Hani  Female   19     172    73.0       Other   \n",
       "2    3   379678       Williams, Hanh  Female   22     168    70.6  Protestant   \n",
       "3    4   807564          Nem, Denzel    Male   19     183    79.7       Other   \n",
       "4    5   383291      Powell, Heather  Female   21     175    71.4    Catholic   \n",
       "\n",
       "   nc.score semester                   major                       minor  \\\n",
       "0      1.91      1st       Political Science             Social Sciences   \n",
       "1      1.56      2nd         Social Sciences  Mathematics and Statistics   \n",
       "2      1.24      3rd         Social Sciences  Mathematics and Statistics   \n",
       "3      1.37      2nd  Environmental Sciences  Mathematics and Statistics   \n",
       "4      1.46      1st  Environmental Sciences  Mathematics and Statistics   \n",
       "\n",
       "   score1  score2  online.tutorial  graduated  salary  \n",
       "0     NaN     NaN                0          0     NaN  \n",
       "1     NaN     NaN                0          0     NaN  \n",
       "2    45.0    46.0                0          0     NaN  \n",
       "3     NaN     NaN                0          0     NaN  \n",
       "4     NaN     NaN                0          0     NaN  "
      ]
     },
     "execution_count": 13,
     "metadata": {},
     "output_type": "execute_result"
    }
   ],
   "source": [
    "students_df = pd.read_csv('https://raw.githubusercontent.com/OtherBrian/machine-learning/main/datasets/students.csv')\n",
    "\n",
    "print(f\"There are {len(students_df)} observations in this dataset.\")\n",
    "\n",
    "students_df.head()"
   ]
  },
  {
   "cell_type": "markdown",
   "metadata": {},
   "source": [
    "Already I can see a few NaN values for salary, and so these will have to be removed from the dataset. ANOVA requires a continuous dependent variable, and so NaN's cannot be included."
   ]
  },
  {
   "cell_type": "code",
   "execution_count": 14,
   "metadata": {},
   "outputs": [
    {
     "name": "stdout",
     "output_type": "stream",
     "text": [
      "There are now 1753 observations in the dataset.\n"
     ]
    }
   ],
   "source": [
    "students_df = students_df[students_df['salary'].notna()]\n",
    "print(f\"There are now {len(students_df)} observations in the dataset.\")"
   ]
  },
  {
   "cell_type": "markdown",
   "metadata": {},
   "source": [
    "That has substantially reduced the size of the dataset, from the original 8239 students to just 1753. This is still more than enough for ANOVA analysis though. Before moving on I'll confirm that Salary is in fact a continuous variable."
   ]
  },
  {
   "cell_type": "code",
   "execution_count": 15,
   "metadata": {},
   "outputs": [
    {
     "data": {
      "text/plain": [
       "count     1753.000000\n",
       "mean     42522.112364\n",
       "std      10333.139906\n",
       "min      11444.141653\n",
       "25%      35206.541598\n",
       "50%      41672.009748\n",
       "75%      49372.540906\n",
       "max      75596.793441\n",
       "Name: salary, dtype: float64"
      ]
     },
     "execution_count": 15,
     "metadata": {},
     "output_type": "execute_result"
    }
   ],
   "source": [
    "students_df['salary'].describe()"
   ]
  },
  {
   "cell_type": "markdown",
   "metadata": {},
   "source": [
    "All of these values are floating point numbers, and so we can be sure it is a continuous variable. Also we can see that that median (50th percentile) and the mean are very close to each other (41672 and 42552 respectively), and so it's quite likely that these salaries are somewhat normally distributed. I will confirm this on a later step. We can also see that the minimum and maximum values are around 3 standard deviations from the mean, and so there's no major outliers.\n",
    "\n",
    "This fulfills 2 of the 6 assumptions for running an ANOVA (using the same numbering as before).\n",
    "1) The dependent variable is continuous. <br>\n",
    "4) There's no significant outliers.\n",
    "\n",
    "Next I'll look how many possible values we have for \"major\" in order to determine our categorical independent variables."
   ]
  },
  {
   "cell_type": "code",
   "execution_count": 16,
   "metadata": {},
   "outputs": [
    {
     "data": {
      "text/plain": [
       "Environmental Sciences        345\n",
       "Biology                       330\n",
       "Economics and Finance         295\n",
       "Political Science             289\n",
       "Mathematics and Statistics    288\n",
       "Social Sciences               206\n",
       "Name: major, dtype: int64"
      ]
     },
     "execution_count": 16,
     "metadata": {},
     "output_type": "execute_result"
    }
   ],
   "source": [
    "students_df['major'].value_counts()"
   ]
  },
  {
   "cell_type": "markdown",
   "metadata": {},
   "source": [
    "We certainly have more than the 2 categorical groups required for ANOVA, and its not possible for a student to have more than 1 major. This means the dataset fulfils another two of the essential assumptions for ANOVA.<br>\n",
    "2) Two or more independent categorical variables <br>\n",
    "3) Independence of observations\n",
    "\n",
    "### Checking for Normality\n",
    "\n",
    "Next I'll take a look at the distribution of salaries for each of these groups, and determine if they are normally distributed. For this I can use Seaborn's facetgrid to plot multiple histograms. https://seaborn.pydata.org/generated/seaborn.FacetGrid.html"
   ]
  },
  {
   "cell_type": "code",
   "execution_count": 17,
   "metadata": {},
   "outputs": [
    {
     "data": {
      "image/png": "[encoded data removed]",
      "text/plain": [
       "<Figure size 1296x216 with 6 Axes>"
      ]
     },
     "metadata": {
      "needs_background": "light"
     },
     "output_type": "display_data"
    }
   ],
   "source": [
    "g = sns.FacetGrid(students_df, col=\"major\")\n",
    "g.map_dataframe(sns.histplot, x=\"salary\", kde=True);\n",
    "g.set_axis_labels(\"Salary\", \"Count\")\n",
    "g.fig.suptitle(\"Salary distributions for each Major\", y=1.05);"
   ]
  },
  {
   "cell_type": "markdown",
   "metadata": {},
   "source": [
    "Each of these distributions look to be fairly normally distributed. However to confirm this, I will use the Shapiro-Wilk test. A reminder that a P-value below 0.05 rejects the null hypothesis that the data is normally distributed. In order to meet assumption 5, the P-value must be above 0.05\n",
    "\n",
    "One thing to keep in mind is that Shaprio-Wilk test should not be used on arrays with more than 5000 observations, as the P-value can become inaccurate. I will introduce an alternative method for larger datasets towards the end of this notebook."
   ]
  },
  {
   "cell_type": "code",
   "execution_count": 18,
   "metadata": {},
   "outputs": [
    {
     "name": "stdout",
     "output_type": "stream",
     "text": [
      "Environmental Sciences Shapio-Wilks test P-Value: 0.22378472983837128\n",
      "Biology Shapio-Wilks test P-Value: 0.0033741146326065063\n",
      "Economics and Finance Shapio-Wilks test P-Value: 0.16668261587619781\n",
      "Political Science Shapio-Wilks test P-Value: 0.010123440064489841\n",
      "Mathematics and Statistics Shapio-Wilks test P-Value: 0.0942251980304718\n",
      "Social Sciences Shapio-Wilks test P-Value: 0.603469967842102\n",
      "\n",
      "Normally distributed independent variables (p>0.05): \n",
      "Environmental Sciences, Economics and Finance, Mathematics and Statistics, Social Sciences\n"
     ]
    }
   ],
   "source": [
    "# Slicing the dataset for each major\n",
    "env_df = students_df[students_df['major'] == 'Environmental Sciences']\n",
    "bio_df = students_df[students_df['major'] == 'Biology']\n",
    "ecf_df = students_df[students_df['major'] == 'Economics and Finance']\n",
    "pos_df = students_df[students_df['major'] == 'Political Science']\n",
    "mas_df = students_df[students_df['major'] == 'Mathematics and Statistics']\n",
    "sos_df = students_df[students_df['major'] == 'Social Sciences']\n",
    "\n",
    "# Creating a dictionary for me to iterate through.\n",
    "df_dict = {'Environmental Sciences': env_df, \n",
    "           'Biology': bio_df, \n",
    "           'Economics and Finance': ecf_df,\n",
    "          'Political Science': pos_df,\n",
    "          'Mathematics and Statistics': mas_df,\n",
    "          'Social Sciences': sos_df}\n",
    "\n",
    "# Creating a list to store the names of any majors that pass the Shapiro-Wilk test\n",
    "normal_independent_variables = []\n",
    "\n",
    "# Perform the Shapiro Wilk test on each dataframe. Print the result, and add to normal_majors if p_value is above 0.05\n",
    "for major, data in df_dict.items():\n",
    "    statistic, p_value = stats.shapiro(data['salary'])\n",
    "    print(f'{major} Shapio-Wilks test P-Value: {str(p_value)}')\n",
    "    if p_value >= 0.05:\n",
    "        normal_independent_variables.append(major)\n",
    "        \n",
    "print('\\nNormally distributed independent variables (p>0.05): ')\n",
    "print(*normal_independent_variables, sep = \", \") \n"
   ]
  },
  {
   "cell_type": "markdown",
   "metadata": {},
   "source": [
    "Of the six majors, four are normally distributed. I will therefore continue with these four for now, as they pass assumption 5) The dependent variable should be normally distributed for each group. \n",
    "\n",
    "I will return to the other majors later, as we can run the Kruskal-Wallis H Test instead of ANOVA in such situations. https://statistics.laerd.com/statistical-guides/one-way-anova-statistical-guide-3.php  <br>https://docs.scipy.org/doc/scipy/reference/generated/scipy.stats.kruskal.html\n",
    "\n",
    "### Checking for Homogeneity of Variance\n",
    "\n",
    "I have one assumption left to check - the homogeneity of variance. For this I can use Levene's test again (https://docs.scipy.org/doc/scipy/reference/generated/scipy.stats.levene.html). Like the Shapiro-Wilk test, the Levene's test will ouput a P-Value, and if its greater than 0.05 we can assume homogeneity of variance."
   ]
  },
  {
   "cell_type": "code",
   "execution_count": 19,
   "metadata": {},
   "outputs": [
    {
     "name": "stdout",
     "output_type": "stream",
     "text": [
      "Levene's test P-Value: 1.0769895950989218e-12\n",
      "The groups do not have homogeneity of variance!\n"
     ]
    }
   ],
   "source": [
    "# Doing Levene's test against the four dataframes that passed the normality assumptuon.\n",
    "statistic, pvalue = stats.levene(env_df['salary'], \n",
    "                            ecf_df['salary'], \n",
    "                            mas_df['salary'], \n",
    "                            sos_df['salary'])\n",
    "\n",
    "print(f\"Levene's test P-Value: {pvalue}\")\n",
    "if pvalue < 0.05:\n",
    "    print(\"The groups do not have homogeneity of variance!\")\n",
    "else:\n",
    "    print(\"The groups do have homogeneity of variance!\")"
   ]
  },
  {
   "cell_type": "markdown",
   "metadata": {},
   "source": [
    "When all four majors are included, the homogeneity of variance assumption is not met as the P-value is far below 0 (e-12 tells us that there are 11 0s before the 1, and so it's actually 0.000000000001). \n",
    "\n",
    "For now, I continue with two majors that I know do have homogeneity of variance - Economics & Finance, and Maths & Statistics."
   ]
  },
  {
   "cell_type": "code",
   "execution_count": 20,
   "metadata": {},
   "outputs": [
    {
     "name": "stdout",
     "output_type": "stream",
     "text": [
      "Levene's test P-Value: 0.44704786466598634\n",
      "The groups do have homogeneity of variance!\n"
     ]
    }
   ],
   "source": [
    "statistic, pvalue = stats.levene(ecf_df['salary'], \n",
    "                                 mas_df['salary'])\n",
    "\n",
    "print(f\"Levene's test P-Value: {pvalue}\")\n",
    "if pvalue < 0.05:\n",
    "    print(\"The groups do not have homogeneity of variance!\")\n",
    "else:\n",
    "    print(\"The groups do have homogeneity of variance!\")"
   ]
  },
  {
   "cell_type": "markdown",
   "metadata": {},
   "source": [
    "These two have a much higher P-Value, and so meet the last assumption for ANOVA. \n",
    "\n",
    "### One Way ANOVA\n",
    "\n",
    "We now have two groups that meet all six of the ANOVA assumptions, and so we can now run the ANOVA analysis to see if there is a significant difference between the two groups."
   ]
  },
  {
   "cell_type": "code",
   "execution_count": 21,
   "metadata": {},
   "outputs": [
    {
     "name": "stdout",
     "output_type": "stream",
     "text": [
      "ANOVA P-value: 0.07324612866614046\n",
      "The groups are not significantly different!\n"
     ]
    }
   ],
   "source": [
    "statistic, pvalue = stats.f_oneway(ecf_df['salary'], mas_df['salary'])\n",
    "\n",
    "print(f\"ANOVA P-value: {pvalue}\")\n",
    "if pvalue < 0.05:\n",
    "    print(\"The groups are significantly different!\")\n",
    "else:\n",
    "    print(\"The groups are not significantly different!\")"
   ]
  },
  {
   "cell_type": "markdown",
   "metadata": {},
   "source": [
    "### Conclusion\n",
    "\n",
    "This P-Value is above 0.05, and so we should not reject the null hypothesis that all groups have the same salary. It looks like Economics & Finance and Mathematics & Statistics majors have similar salary distributions, which is reassuring.\n",
    "\n",
    "Before moving on, I should point out that because we only have two groups in this scenario, we can actually use a T-Test instead of ANOVA. Both will provide the same result, but whereas ANOVA can analyse more than 2 groups, the T-Test should only be used to compare one group to another. (https://www.statology.org/what-is-the-difference-between-a-t-test-and-an-anova/). The T-Test can also be performed via Scipy.Stats. https://docs.scipy.org/doc/scipy/reference/generated/scipy.stats.ttest_ind.html"
   ]
  },
  {
   "cell_type": "code",
   "execution_count": 22,
   "metadata": {},
   "outputs": [
    {
     "name": "stdout",
     "output_type": "stream",
     "text": [
      "T-Test P-value: 0.07324612866615295\n",
      "The groups are not significantly different!\n"
     ]
    }
   ],
   "source": [
    "statistic, pvalue = stats.ttest_ind(ecf_df['salary'], mas_df['salary'])\n",
    "\n",
    "print(f\"T-Test P-value: {pvalue}\")\n",
    "if pvalue < 0.05:\n",
    "    print(\"The groups are significantly different!\")\n",
    "else:\n",
    "    print(\"The groups are not significantly different!\")"
   ]
  },
  {
   "cell_type": "markdown",
   "metadata": {},
   "source": [
    "As expected, the results are exactly the same as we saw with ANOVA."
   ]
  },
  {
   "cell_type": "markdown",
   "metadata": {},
   "source": [
    "## Anova Variations\n",
    "\n",
    "Above we've seen two examples of a standard ANOVA used on ideal datasets (after some cleaning). However in situations where our data doesn't meet all six assumptions, hope is not lost. There are other forms of ANOVA or alternative techniques that can be utilized when datasets miss one or two of the assumptions.\n",
    "\n",
    "### Welch's ANOVA - For when groups lack homogeneity of variance\n",
    "\n",
    "We saw before that when we ran Levene's test on all four of our normally distributed independent variables in the Students dataset, the test found that they did not have homogeneity of variances, and so were not suitable for ANOVA. In situations like this, we can instead use Welch's ANOVA. This is available via the Statsmodels library https://www.statisticshowto.com/welchs-anova/<br>\n",
    "https://www.statsmodels.org/dev/generated/statsmodels.stats.oneway.anova_oneway.html"
   ]
  },
  {
   "cell_type": "code",
   "execution_count": 23,
   "metadata": {},
   "outputs": [
    {
     "name": "stdout",
     "output_type": "stream",
     "text": [
      "Welch's ANOVA P-value: 2.623052455425018e-131\n",
      "The groups are significantly different!\n"
     ]
    }
   ],
   "source": [
    "from statsmodels.stats import oneway\n",
    "\n",
    "statistic, pvalue = oneway.anova_oneway([env_df['salary'], \n",
    "                            ecf_df['salary'], \n",
    "                            mas_df['salary'], \n",
    "                            sos_df['salary']])\n",
    "\n",
    "print(f\"Welch's ANOVA P-value: {pvalue}\")\n",
    "if pvalue < 0.05:\n",
    "    print(\"The groups are significantly different!\")\n",
    "else:\n",
    "    print(\"The groups are not significantly different!\")"
   ]
  },
  {
   "cell_type": "markdown",
   "metadata": {},
   "source": [
    "Here we can see that the P-Value is far below 0.05 (the e-131 tells us that there's 130 0's after the decimal point), and so there's certainly a statistical significant difference between these groups. However, again it doesn't tell us which groups are significantly different from each other. For this we will need to run a post-hoc test.\n",
    "\n",
    "### Post-Hoc Analysis for Welch's ANOVA\n",
    "\n",
    "In the Diet example, we were able to use Tukey's HSD test because the dataset met the assumption of homogeneity of variance. However, in this example we have had to use Welch's ANOVA due to the differing variances. Fortunately, there is the Games-Howell Post-Hoc Multiple Comparisons Test which acts very similarly to Tukey's HSD test. At present, the only Python library I have found with this test available is Pinguoin (https://pingouin-stats.org/generated/pingouin.pairwise_gameshowell.html)."
   ]
  },
  {
   "cell_type": "code",
   "execution_count": 24,
   "metadata": {},
   "outputs": [],
   "source": [
    "# Using the list of normally distributed majors we created earlier to filter the dataframe.\n",
    "gameshowell_df = students_df[students_df['major'].isin(normal_independent_variables)]"
   ]
  },
  {
   "cell_type": "code",
   "execution_count": 25,
   "metadata": {
    "scrolled": true
   },
   "outputs": [
    {
     "data": {
      "text/html": [
       "<div>\n",
       "<style scoped>\n",
       "    .dataframe tbody tr th:only-of-type {\n",
       "        vertical-align: middle;\n",
       "    }\n",
       "\n",
       "    .dataframe tbody tr th {\n",
       "        vertical-align: top;\n",
       "    }\n",
       "\n",
       "    .dataframe thead th {\n",
       "        text-align: right;\n",
       "    }\n",
       "</style>\n",
       "<table border=\"1\" class=\"dataframe\">\n",
       "  <thead>\n",
       "    <tr style=\"text-align: right;\">\n",
       "      <th></th>\n",
       "      <th>A</th>\n",
       "      <th>B</th>\n",
       "      <th>mean(A)</th>\n",
       "      <th>mean(B)</th>\n",
       "      <th>diff</th>\n",
       "      <th>se</th>\n",
       "      <th>T</th>\n",
       "      <th>df</th>\n",
       "      <th>pval</th>\n",
       "      <th>hedges</th>\n",
       "    </tr>\n",
       "  </thead>\n",
       "  <tbody>\n",
       "    <tr>\n",
       "      <th>0</th>\n",
       "      <td>Economics and Finance</td>\n",
       "      <td>Environmental Sciences</td>\n",
       "      <td>49696.172</td>\n",
       "      <td>37652.678</td>\n",
       "      <td>12043.494</td>\n",
       "      <td>582.379</td>\n",
       "      <td>20.680</td>\n",
       "      <td>501.087</td>\n",
       "      <td>0.001</td>\n",
       "      <td>1.638</td>\n",
       "    </tr>\n",
       "    <tr>\n",
       "      <th>1</th>\n",
       "      <td>Economics and Finance</td>\n",
       "      <td>Mathematics and Statistics</td>\n",
       "      <td>49696.172</td>\n",
       "      <td>48443.507</td>\n",
       "      <td>1252.665</td>\n",
       "      <td>697.901</td>\n",
       "      <td>1.795</td>\n",
       "      <td>580.968</td>\n",
       "      <td>0.277</td>\n",
       "      <td>0.148</td>\n",
       "    </tr>\n",
       "    <tr>\n",
       "      <th>2</th>\n",
       "      <td>Economics and Finance</td>\n",
       "      <td>Social Sciences</td>\n",
       "      <td>49696.172</td>\n",
       "      <td>32044.006</td>\n",
       "      <td>17652.166</td>\n",
       "      <td>656.922</td>\n",
       "      <td>26.871</td>\n",
       "      <td>497.983</td>\n",
       "      <td>0.001</td>\n",
       "      <td>2.436</td>\n",
       "    </tr>\n",
       "    <tr>\n",
       "      <th>3</th>\n",
       "      <td>Environmental Sciences</td>\n",
       "      <td>Mathematics and Statistics</td>\n",
       "      <td>37652.678</td>\n",
       "      <td>48443.507</td>\n",
       "      <td>-10790.829</td>\n",
       "      <td>580.435</td>\n",
       "      <td>-18.591</td>\n",
       "      <td>492.009</td>\n",
       "      <td>0.001</td>\n",
       "      <td>-1.482</td>\n",
       "    </tr>\n",
       "    <tr>\n",
       "      <th>4</th>\n",
       "      <td>Environmental Sciences</td>\n",
       "      <td>Social Sciences</td>\n",
       "      <td>37652.678</td>\n",
       "      <td>32044.006</td>\n",
       "      <td>5608.672</td>\n",
       "      <td>530.457</td>\n",
       "      <td>10.573</td>\n",
       "      <td>403.291</td>\n",
       "      <td>0.001</td>\n",
       "      <td>0.930</td>\n",
       "    </tr>\n",
       "    <tr>\n",
       "      <th>5</th>\n",
       "      <td>Mathematics and Statistics</td>\n",
       "      <td>Social Sciences</td>\n",
       "      <td>48443.507</td>\n",
       "      <td>32044.006</td>\n",
       "      <td>16399.501</td>\n",
       "      <td>655.199</td>\n",
       "      <td>25.030</td>\n",
       "      <td>491.296</td>\n",
       "      <td>0.001</td>\n",
       "      <td>2.280</td>\n",
       "    </tr>\n",
       "  </tbody>\n",
       "</table>\n",
       "</div>"
      ],
      "text/plain": [
       "                            A                           B    mean(A)  \\\n",
       "0       Economics and Finance      Environmental Sciences  49696.172   \n",
       "1       Economics and Finance  Mathematics and Statistics  49696.172   \n",
       "2       Economics and Finance             Social Sciences  49696.172   \n",
       "3      Environmental Sciences  Mathematics and Statistics  37652.678   \n",
       "4      Environmental Sciences             Social Sciences  37652.678   \n",
       "5  Mathematics and Statistics             Social Sciences  48443.507   \n",
       "\n",
       "     mean(B)       diff       se       T       df   pval  hedges  \n",
       "0  37652.678  12043.494  582.379  20.680  501.087  0.001   1.638  \n",
       "1  48443.507   1252.665  697.901   1.795  580.968  0.277   0.148  \n",
       "2  32044.006  17652.166  656.922  26.871  497.983  0.001   2.436  \n",
       "3  48443.507 -10790.829  580.435 -18.591  492.009  0.001  -1.482  \n",
       "4  32044.006   5608.672  530.457  10.573  403.291  0.001   0.930  \n",
       "5  32044.006  16399.501  655.199  25.030  491.296  0.001   2.280  "
      ]
     },
     "execution_count": 25,
     "metadata": {},
     "output_type": "execute_result"
    }
   ],
   "source": [
    "import pingouin as pg\n",
    "\n",
    "# data is the dataframe\n",
    "# dv is the dependent variable (salary)\n",
    "# betwen is the independent variable (major)\n",
    "pg.pairwise_gameshowell(data=gameshowell_df, dv='salary',\n",
    "                        between='major').round(3)"
   ]
  },
  {
   "cell_type": "markdown",
   "metadata": {},
   "source": [
    "This results table doesn't explicitly call out which combinations should reject the null hypothesis, however we can go through and look at the \"pval\" column one by one to see for ourselves.\n",
    "\n",
    "### Conclusion\n",
    "From this we can see that most of the above combinations are statistically sigificantly different from each other. The only combination that is not statistically significant is the Economics & Finance and Mathematics & Statistics pairing, which we had already established via the ANOVA and T-Test above."
   ]
  },
  {
   "cell_type": "markdown",
   "metadata": {},
   "source": [
    "## Shapiro-Wilks alternative for large datasets (>5000 observations)\n",
    "\n",
    "Previously we used the Shapiro-Wilks test to check whether or not the dependent variable is from a normal distribution, however if we take a look at the description in Scipy.Stats' documentation (https://docs.scipy.org/doc/scipy/reference/generated/scipy.stats.shapiro.html), we see that:\n",
    "\n",
    "```For N > 5000 the W test statistic is accurate but the p-value may not be.```\n",
    "\n",
    "In situations where we have more than 5000 observations, the P-value becomes less trustworthy, and so other tests should be considered. One such test is the Anderson-Darling test (https://docs.scipy.org/doc/scipy/reference/generated/scipy.stats.anderson.html#scipy.stats.anderson). The Anderson-Darling test can test for a number of different distributions, with the normal distribution being among the available options. \n",
    "\n",
    "To show a quick example of this test, I'll load in the Irish Weather dataset. I sourced this dataset from Kaggle (https://www.kaggle.com/conorrot/irish-weather-hourly-data), and it includes the hourly weather measurements from numerous weather stations across Ireland from January 1st 1990 to June 1st 2020. Needless to say, the original dataset is massive, and so I've just taken the Athenry data to show here."
   ]
  },
  {
   "cell_type": "code",
   "execution_count": 26,
   "metadata": {},
   "outputs": [
    {
     "name": "stdout",
     "output_type": "stream",
     "text": [
      "The weather dataset now has 76202 observations.\n"
     ]
    }
   ],
   "source": [
    "# Load the dataset into a Pandas dataframe\n",
    "weather_df = pd.read_csv('https://raw.githubusercontent.com/OtherBrian/machine-learning/main/datasets/irish_weather.csv')\n",
    "\n",
    "# temp is currently a string, so I'm converting it to a float by removing the punctuation first.\n",
    "weather_df['temp'] = weather_df['temp'].str.extract(r'(\\d+.\\d+)').astype('float')\n",
    "\n",
    "# Some measurements are missing, so dropping them.\n",
    "weather_df = weather_df[weather_df['temp'].notna()]\n",
    "\n",
    "print(f\"The weather dataset now has {len(weather_df)} observations.\")"
   ]
  },
  {
   "cell_type": "markdown",
   "metadata": {},
   "source": [
    "With the data now loaded, we can take a look at the distribution of the temperatures during this time."
   ]
  },
  {
   "cell_type": "code",
   "execution_count": 27,
   "metadata": {},
   "outputs": [
    {
     "data": {
      "image/png": "[encoded data removed]",
      "text/plain": [
       "<Figure size 432x288 with 1 Axes>"
      ]
     },
     "metadata": {
      "needs_background": "light"
     },
     "output_type": "display_data"
    }
   ],
   "source": [
    "plt.hist(weather_df[\"temp\"]);\n",
    "plt.xlabel(\"Temperature\")\n",
    "plt.ylabel(\"Count\")\n",
    "plt.title(\"Distribution of hourly temperatures (celcius) in Athenry (1990-2020)\", y=1.05);"
   ]
  },
  {
   "cell_type": "markdown",
   "metadata": {},
   "source": [
    "Anyone living around East Galway wouldn't be surprised by this distribution of temperatures. While it does have a rough normal shape, it is right-skewed and so may not actually be from a normal distribution.\n",
    "\n",
    "Let's try the Shaprio-Wilks test first and see how that looks. Remember, the P-value here is less reliable over 5000 observations, and we have 76202 in this dataset."
   ]
  },
  {
   "cell_type": "code",
   "execution_count": 28,
   "metadata": {},
   "outputs": [
    {
     "name": "stdout",
     "output_type": "stream",
     "text": [
      "Shapiro-Wilks P-value: 0.0\n"
     ]
    },
    {
     "name": "stderr",
     "output_type": "stream",
     "text": [
      "/Users/Brian/opt/anaconda3/lib/python3.8/site-packages/scipy/stats/morestats.py:1760: UserWarning: p-value may not be accurate for N > 5000.\n",
      "  warnings.warn(\"p-value may not be accurate for N > 5000.\")\n"
     ]
    }
   ],
   "source": [
    "pvalue = stats.shapiro(weather_df['temp'])[1]\n",
    "\n",
    "print(f\"Shapiro-Wilks P-value: {pvalue}\")"
   ]
  },
  {
   "cell_type": "markdown",
   "metadata": {},
   "source": [
    "A P-value of 0.0, coupled with the warning from Scipy, suggests that the test did not work in this scenario, and so it's time to use the Anderson-Darling test instead.\n",
    "\n",
    "As previously mentioned, we can select from a few distribution options for this test, and so I'll be using 'norm' in this case."
   ]
  },
  {
   "cell_type": "code",
   "execution_count": 29,
   "metadata": {},
   "outputs": [
    {
     "data": {
      "text/plain": [
       "AndersonResult(statistic=90.00576422091399, critical_values=array([0.576, 0.656, 0.787, 0.918, 1.092]), significance_level=array([15. , 10. ,  5. ,  2.5,  1. ]))"
      ]
     },
     "execution_count": 29,
     "metadata": {},
     "output_type": "execute_result"
    }
   ],
   "source": [
    "stats.anderson(weather_df['temp'], dist='norm')"
   ]
  },
  {
   "cell_type": "markdown",
   "metadata": {},
   "source": [
    "The results for the Anderson-Darling test look very different to the previous tests we've looked at, which only returned a test statistic and the p-value. \n",
    "\n",
    "In this case, we have a test statistic (statistic), an array of critical values and their corresponding significance levels. \n",
    "\n",
    "If the test statistic is higher than the critical value at any particular significant level, then we reject the null hypothesis that the data is from a normal distribution.\n",
    "\n",
    "Throughout this notebook we have been using 0.05 as our significant threshold, and so it is the \"5.\" significance level we need to look at here. The corresponding critical value for this significant value is 0.787, and the test statistic is 90. The test is therefore telling us to reject the null hypothesis, and that this data is not from a normal distribution.\n",
    "\n",
    "Had the test statistic been below the critical value, the dependent variable would have passed assumption 5 (the dependent variable should be normally distributed for each group) and we could have continued checking the data against the final assumption."
   ]
  },
  {
   "cell_type": "markdown",
   "metadata": {},
   "source": [
    "# Notes - Things to be done!\n",
    "* Create a Type 1 / Type 2 error graphic."
   ]
  },
  {
   "cell_type": "markdown",
   "metadata": {},
   "source": [
    "Resources\n",
    "\n",
    "https://www.ncbi.nlm.nih.gov/pmc/articles/PMC6532382/<br>\n",
    "https://www.youtube.com/watch?v=0Vj2V2qRU10 <br>\n",
    "https://www.qualtrics.com/uk/experience-management/research/anova/ <br>\n",
    "https://online.stat.psu.edu/stat500/book/export/html/479<br>\n",
    "https://www.scribbr.com/statistics/one-way-anova/<br>\n",
    "https://learning.edanz.com/anova-explained/<br>\n",
    "https://www.statisticssolutions.com/free-resources/directory-of-statistical-analyses/anova/<br>\n",
    "https://towardsdatascience.com/analysis-of-variance-anova-8dc889d2fc3a<br>\n",
    "https://towardsdatascience.com/what-is-anova-and-when-do-we-use-it-e0dcd8759c4e<br>\n",
    "https://medium.com/@peterflom/anova-why-analyze-variances-to-compare-means-e3d4bbd3c05<br>\n",
    "https://towardsdatascience.com/anovas-three-types-of-estimating-sums-of-squares-don-t-make-the-wrong-choice-91107c77a27a<br>\n",
    "https://medium.com/omarelgabrys-blog/statistics-probability-t-distribution-anova-d1422928e3a<br>"
   ]
  },
  {
   "cell_type": "markdown",
   "metadata": {},
   "source": [
    "## More Resources\n",
    "\n",
    "Ancova tutorial - https://statistics.laerd.com/spss-tutorials/ancova-using-spss-statistics.php\n",
    "* Similar to ANOVA but allows you to control for a 3rd measurement. e.g. if I'm looking at exercise and heartrate, but want to control for age."
   ]
  }
 ],
 "metadata": {
  "kernelspec": {
   "display_name": "Python 3",
   "language": "python",
   "name": "python3"
  },
  "language_info": {
   "codemirror_mode": {
    "name": "ipython",
    "version": 3
   },
   "file_extension": ".py",
   "mimetype": "text/x-python",
   "name": "python",
   "nbconvert_exporter": "python",
   "pygments_lexer": "ipython3",
   "version": "3.8.5"
  }
 },
 "nbformat": 4,
 "nbformat_minor": 4
}
