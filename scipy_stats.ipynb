{
 "cells": [
  {
   "cell_type": "markdown",
   "metadata": {},
   "source": [
    "# Scipy Stats & Anova\n",
    "\n",
    "This Jupyter Notebook is part of Brian Doheny's submission for the 2021/22 Machine Learning module at Galway-Mayo Insitute of Technology.\n",
    "\n",
    "In this notebook you will find an introduction to the Scipy.Stats Python library, alongside explanations and examples of the ANOVA analysis technique.\n",
    "\n",
    "## Put NBViewer here"
   ]
  },
  {
   "cell_type": "markdown",
   "metadata": {},
   "source": [
    "## What is Scipy?\n",
    "\n",
    "Scipy is an open source Python library that allows users to perform a multitude of science related programming (https://scipy.github.io/devdocs/tutorial/index.html#user-guide), and is one of the foundations of the Python Data Science toolkit for analysts, data scientists and more. As with many such libraries Scipy is built with Numpy in mind, and like Numpy, Scipy is built to be fast so that it can handle large amounts of data quickly and effectively (https://scipy.org/). \n",
    "\n",
    "While Scipy can be used for tasks such as optimization, integration and multidimensional image processing(, in this notebook I will be concentrating on the Stats subpackage. \n",
    "\n",
    "## Scipy.Stats\n",
    "\n",
    "The Scipy.Stats sub-package provides functionality for statistical analyses, and is home to the Python implementations of many of the statistical tests that analysts and data scientists need in their day to day work. For example, the T-Test (https://scipy.github.io/devdocs/reference/generated/scipy.stats.ttest_1samp.html#scipy.stats.ttest_1samp), Chi Square Test (https://scipy.github.io/devdocs/reference/generated/scipy.stats.chisquare.html#scipy.stats.chisquare) and ANOVA (https://scipy.github.io/devdocs/reference/generated/scipy.stats.f_oneway.html#scipy.stats.f_oneway) can all be found within Scipy.Stats alongside many more.\n",
    "\n",
    "As well as these tests, Scipy also offers an extended range of summary and frequency statistics that are otherwise not available in Numpy. For example, one use Numpy to get the mean, median and such for their array, but will have to use Scipy.Stats if they wish to measure the kurtosis (https://scipy.github.io/devdocs/reference/generated/scipy.stats.kurtosis.html#scipy.stats.kurtosis) or skew (https://docs.scipy.org/doc/scipy/reference/generated/scipy.stats.skew.html) of that array.\n",
    "\n",
    "Scipy also offers functionality for generating random data according to various probability distributions, offering a wider range than is otherwise available via Numpy.Random, such as mysterious sounding Crystalball Distribution (https://scipy.github.io/devdocs/reference/generated/scipy.stats.crystalball.html#scipy.stats.crystalball). Users can also transform their data so that it fits specific statistical tests via functions such as Box-Cox(https://scipy.github.io/devdocs/reference/generated/scipy.stats.boxcox.html#scipy.stats.boxcox) or Yeo-Johnson (https://scipy.github.io/devdocs/reference/generated/scipy.stats.yeojohnson.html#scipy.stats.yeojohnson).\n",
    "\n",
    "Throughout the remainder of this notebook, I will be focusing on Scipy.Stats ANOVA functionality. This includes the ANOVA (https://scipy.github.io/devdocs/reference/generated/scipy.stats.f_oneway.html#scipy.stats.f_oneway) test itself, the tests to confirm that ANOVA is suitable for the given dataset, and some variations of ANOVA to be used when ANOVA conditions are not totally ideal."
   ]
  },
  {
   "cell_type": "markdown",
   "metadata": {},
   "source": [
    "# ANOVA (Analysis of Variance)\n",
    "\n",
    "## What is ANOVA?\n",
    "\n",
    "Analysis of Variance tests, more commonly referred to as ANOVA, is a statistical test that is used to check whether two or more groups from within a given populati, on have significant differences. It does this by comparing the variance of the observations within each group as well as taking the mean value of each group into account(https://www.qualtrics.com/uk/experience-management/research/anova/), and producing an F statistic which can be used to derive a P-Value. This P-Value tells us what probability there would be of getting such an extreme F statistic purely by chance (i.e. if there were no actual difference between the two groups) (https://www.statisticshowto.com/probability-and-statistics/f-statistic-value-test/), and so it's common practice to accepted a P-Value less than 0.05 as being \"statistically significant\", as it represents a less than 5% probability that these results were due to chance. Some industries or use-cases may require somewhat different P-Value thresholds, depending on the risks of a Type 1 or Type 2 error.\n",
    "\n",
    "## Hypothesis Testing\n",
    "\n",
    "When running experiments or performing observational analysis on different groups, such as would be the case with ANOVA, we must start off with a hypothesis that we wish to test for. This hypothesis clearly details the difference we expect to see from the treatment, or across the various groups, and thus clarifies exactly which measure will be used in the statistical tests to be performed (i.e. ANOVA in this case). For example, in a randomized drug test the hypothesis may be that the drug lowers the blood pressure of the people taking the drug after a certain amount of time.\n",
    "\n",
    "### Null and Alternate Hypothesis\n",
    "\n",
    "With our initial hypothesis detailing what we expect to see, we can then create a null hypothesis and an alternate hypothesis. The alternate hypothesis is simply that change that you anticipate. So in my prior example, the alternate hypothesis would be \"patients that take this drug have lower blood pressure by 5% after X amount of time\".\n",
    "\n",
    "Meanwhile the Null Hypothesis is opposite of the Alternate Hypothesis, and stats that there is no change or meaningful difference between groups. In the drug trial example, the null hypothesis would be \"patients that take this drug see no change in their blood pressure after x amount of time\".\n",
    "\n",
    "As the analysis is performed, it is the null hypothesis that is assumed to be true until we find statistically significant evidence that it can be rejected and the alternate hypothesis accepted. It should be noted that the term \"hypothesis\" is used here for good reason, as rejecting the null hypothesis does not necessarily mean that the alternate hypothesis is the true cause of the change or difference, but that without other alternative hypotheses it can be accepted until such a time as it to is rejected.\n",
    "\n",
    "This is where the P-Value kicks in. The P-Value tells us the probability of having encountered results as extreme as the results found in the given analysis if there were no notable difference. If the P-Value is high, then the probability of the results being down to chance is high, and therefore there isn't sufficient evidence to reject the null hypothesis. However, if the P-Value is low (usually below 0.05) then the null hypothesis can be confidently rejected, and the alternate hypothesis accepted. \n",
    "\n",
    "The null hypothesis and threshold for the P-Value is set before the experiment or analysis begins, so as to prevent \"P-Hacking\" whereby results can be massaged or thresholds changed in order to promote a seemingly stastically significant result, that otherwise wouldn't have rejected the null hypothesis (https://scienceinthenewsroom.org/resources/statistical-p-hacking-explained/). P-Hacking is not neccessarily a conscious decision, as our own biases can mean we accept results that otherwise wouldn't be significant, and so it's important that we set the thresholds before we begin the analysis so that these errors don't crop up.\n",
    "\n",
    "(https://www.analyticsvidhya.com/blog/2021/01/an-introduction-to-hypothesis-testing/)\n",
    "\n",
    "\n",
    "### Type I & Type II Errors\n",
    "\n",
    "We use P-Values as a threshold for whether or not to reject a null hypothesis, as it limits the likelihood of an error being made. In hypothesis testing, errors fall into two main categories known as Type I Errors and Type II Errors.\n",
    "\n",
    "Type I Errors are false positive results. In these situations the null hypothesis would be rejected when it's actually the more correct of the two hypotheses. By setting a P-Value threshold of 5% or lower,  we will only reject the null hypothesis if our results would only be this extreme 5% or less of the time. This means we can at least be confident that our results at least 95% likely to be significant, and so the risk of a Type I error having occured is 5% or less. However, if P-hacking has taken place, then the likelihood of a Type I error increases.\n",
    "\n",
    "Type II Errors are false negatives. In these situations the null hypothesis was not rejected, when it actually should. This may be due to the distribution of the observed samples not fully representing the population, or that the measure used in the analysis was not the one that was actually impacted. The risk of type II errors can be reduced by increasing the statistiacl power of the analysis by increaseing the sample size, increasing the size of the effect we are measuring for (e.g. instead of looking for a 5% improvement, look for 10%), or by raising the P-Value threshold (with obvious knock on effects for more potential Type 1 errors). \n",
    "\n",
    "While analysts aim to avoid either error when designing their experiments, Type I errors are generally seen as the more critical of the two. This is because a Type I Error rejecting the null hypothesis, and thus accepting a new insight and possibly new actions as a result, whereas a Type II Error maintains the status quo. In most scenarios, taking action based on a Type I Error has the potential to cause more damage then carrying on with the status quo (as would be the case with a Type II error). This may not be true in all scenarios, as there may be situations where inaction is the larger risk.\n",
    "\n",
    "\n",
    "https://www.scribbr.com/statistics/type-i-and-type-ii-errors/"
   ]
  },
  {
   "cell_type": "markdown",
   "metadata": {},
   "source": [
    "### Notes - Things to be done!\n",
    "\n",
    "* 6 assumptions of ANOVA\n",
    "* Use toy (Diet) dataset to show a smooth example of ANOVA.\n",
    "* Use students dataset to show a more realistic one, and other workarounds.\n",
    "* Consider including ANCOVA is the students dataset is suitable."
   ]
  },
  {
   "cell_type": "markdown",
   "metadata": {},
   "source": [
    "Resources\n",
    "\n",
    "https://www.ncbi.nlm.nih.gov/pmc/articles/PMC6532382/<br>\n",
    "https://www.youtube.com/watch?v=0Vj2V2qRU10 <br>\n",
    "https://www.qualtrics.com/uk/experience-management/research/anova/ <br>\n",
    "https://online.stat.psu.edu/stat500/book/export/html/479<br>\n",
    "https://www.scribbr.com/statistics/one-way-anova/<br>\n",
    "https://learning.edanz.com/anova-explained/<br>\n",
    "https://www.statisticssolutions.com/free-resources/directory-of-statistical-analyses/anova/<br>\n",
    "https://towardsdatascience.com/analysis-of-variance-anova-8dc889d2fc3a<br>\n",
    "https://towardsdatascience.com/what-is-anova-and-when-do-we-use-it-e0dcd8759c4e<br>\n",
    "https://medium.com/@peterflom/anova-why-analyze-variances-to-compare-means-e3d4bbd3c05<br>\n",
    "https://towardsdatascience.com/anovas-three-types-of-estimating-sums-of-squares-don-t-make-the-wrong-choice-91107c77a27a<br>\n",
    "https://medium.com/omarelgabrys-blog/statistics-probability-t-distribution-anova-d1422928e3a<br>"
   ]
  },
  {
   "cell_type": "markdown",
   "metadata": {},
   "source": [
    "## More Resources\n",
    "\n",
    "Anova tutorial - https://statistics.laerd.com/spss-tutorials/one-way-anova-using-spss-statistics.php\n",
    "* Mentions using a Tukey test post-hoc to see which groups had the difference<br>\n",
    "6 assumptions: <br>\n",
    "1) dependent variable is continuous, <br>\n",
    "2) indepedent variables across 2 or 3 categories at least,<br> \n",
    "3) independence of observations (no observation can be in multiple categories), <br>\n",
    "4) no significant outliers, <br>\n",
    "5) dependent variable is normally distributed for each category, <br>\n",
    "6) homogeneity of variances.<br>\n",
    "\n",
    "\n",
    "Ancova tutorial - https://statistics.laerd.com/spss-tutorials/ancova-using-spss-statistics.php\n",
    "* Similar to ANOVA but allows you to control for a 3rd measurement. e.g. if I'm looking at exercise and heartrate, but want to control for age.\n",
    "\n",
    "Normality tests in python - https://machinelearningmastery.com/a-gentle-introduction-to-normality-tests-in-python/\n",
    "* Dependent variable has to be normally distributed for each category.\n",
    "* Can be done in scipy - https://docs.scipy.org/doc/scipy/reference/generated/scipy.stats.shapiro.html\n",
    "\n",
    "Homogeneity of variances in Python - https://www.statology.org/levenes-test-python/\n",
    "* https://www.marsja.se/levenes-bartletts-test-of-equality-homogeneity-of-variance-in-python/\n",
    "* Also in Scipy - https://docs.scipy.org/doc/scipy/reference/generated/scipy.stats.levene.html"
   ]
  },
  {
   "cell_type": "markdown",
   "metadata": {},
   "source": [
    "# Diet Dataset\n",
    "\n",
    "Diet dataset - https://www.sheffield.ac.uk/mash/statistics/datasets\n",
    "* Has 3 diet types\n",
    "* Can look at differences in gender and age brackets\n",
    "\n"
   ]
  },
  {
   "cell_type": "code",
   "execution_count": 1,
   "metadata": {},
   "outputs": [],
   "source": [
    "import pandas as pd\n",
    "import matplotlib.pyplot as plt\n",
    "import seaborn as sns\n",
    "import numpy as np\n",
    "import statsmodels as sm\n",
    "from statsmodels.stats import oneway, multicomp"
   ]
  },
  {
   "cell_type": "code",
   "execution_count": 2,
   "metadata": {
    "scrolled": true
   },
   "outputs": [
    {
     "data": {
      "text/html": [
       "<div>\n",
       "<style scoped>\n",
       "    .dataframe tbody tr th:only-of-type {\n",
       "        vertical-align: middle;\n",
       "    }\n",
       "\n",
       "    .dataframe tbody tr th {\n",
       "        vertical-align: top;\n",
       "    }\n",
       "\n",
       "    .dataframe thead th {\n",
       "        text-align: right;\n",
       "    }\n",
       "</style>\n",
       "<table border=\"1\" class=\"dataframe\">\n",
       "  <thead>\n",
       "    <tr style=\"text-align: right;\">\n",
       "      <th></th>\n",
       "      <th>Person</th>\n",
       "      <th>gender</th>\n",
       "      <th>Age</th>\n",
       "      <th>Height</th>\n",
       "      <th>pre.weight</th>\n",
       "      <th>Diet</th>\n",
       "      <th>weight6weeks</th>\n",
       "      <th>weightChange</th>\n",
       "    </tr>\n",
       "  </thead>\n",
       "  <tbody>\n",
       "    <tr>\n",
       "      <th>2</th>\n",
       "      <td>1</td>\n",
       "      <td>0</td>\n",
       "      <td>22</td>\n",
       "      <td>159</td>\n",
       "      <td>58</td>\n",
       "      <td>1</td>\n",
       "      <td>54.2</td>\n",
       "      <td>3.8</td>\n",
       "    </tr>\n",
       "    <tr>\n",
       "      <th>3</th>\n",
       "      <td>2</td>\n",
       "      <td>0</td>\n",
       "      <td>46</td>\n",
       "      <td>192</td>\n",
       "      <td>60</td>\n",
       "      <td>1</td>\n",
       "      <td>54.0</td>\n",
       "      <td>6.0</td>\n",
       "    </tr>\n",
       "    <tr>\n",
       "      <th>4</th>\n",
       "      <td>3</td>\n",
       "      <td>0</td>\n",
       "      <td>55</td>\n",
       "      <td>170</td>\n",
       "      <td>64</td>\n",
       "      <td>1</td>\n",
       "      <td>63.3</td>\n",
       "      <td>0.7</td>\n",
       "    </tr>\n",
       "    <tr>\n",
       "      <th>5</th>\n",
       "      <td>4</td>\n",
       "      <td>0</td>\n",
       "      <td>33</td>\n",
       "      <td>171</td>\n",
       "      <td>64</td>\n",
       "      <td>1</td>\n",
       "      <td>61.1</td>\n",
       "      <td>2.9</td>\n",
       "    </tr>\n",
       "    <tr>\n",
       "      <th>6</th>\n",
       "      <td>5</td>\n",
       "      <td>0</td>\n",
       "      <td>50</td>\n",
       "      <td>170</td>\n",
       "      <td>65</td>\n",
       "      <td>1</td>\n",
       "      <td>62.2</td>\n",
       "      <td>2.8</td>\n",
       "    </tr>\n",
       "  </tbody>\n",
       "</table>\n",
       "</div>"
      ],
      "text/plain": [
       "   Person gender  Age  Height  pre.weight  Diet  weight6weeks  weightChange\n",
       "2       1      0   22     159          58     1          54.2           3.8\n",
       "3       2      0   46     192          60     1          54.0           6.0\n",
       "4       3      0   55     170          64     1          63.3           0.7\n",
       "5       4      0   33     171          64     1          61.1           2.9\n",
       "6       5      0   50     170          65     1          62.2           2.8"
      ]
     },
     "execution_count": 2,
     "metadata": {},
     "output_type": "execute_result"
    }
   ],
   "source": [
    "diet_df = pd.read_csv('https://github.com/OtherBrian/machine-learning/blob/main/datasets/diet.csv')\n",
    "\n",
    "# A few observations don't have a value for gender, and have no difference in pre/post weight. Removing these.\n",
    "diet_df = diet_df[diet_df['gender'].isin(['0', '1'])]\n",
    "\n",
    "# Going to measure the weight change from each diet \n",
    "diet_df['weightChange'] = diet_df['pre.weight'] - diet_df['weight6weeks']\n",
    "\n",
    "diet_df.head()"
   ]
  },
  {
   "cell_type": "code",
   "execution_count": 3,
   "metadata": {},
   "outputs": [
    {
     "data": {
      "text/plain": [
       "3    27\n",
       "2    25\n",
       "1    24\n",
       "Name: Diet, dtype: int64"
      ]
     },
     "execution_count": 3,
     "metadata": {},
     "output_type": "execute_result"
    }
   ],
   "source": [
    "# Check how many I have in each group\n",
    "\n",
    "diet_df['Diet'].value_counts()"
   ]
  },
  {
   "cell_type": "code",
   "execution_count": 4,
   "metadata": {},
   "outputs": [],
   "source": [
    "# Splitting into DataFrames for each of the diets.\n",
    "\n",
    "diet1 = diet_df[diet_df['Diet'] == 1]\n",
    "diet2 = diet_df[diet_df['Diet'] == 2]\n",
    "diet3 = diet_df[diet_df['Diet'] == 3]"
   ]
  },
  {
   "cell_type": "markdown",
   "metadata": {},
   "source": [
    "# EDA"
   ]
  },
  {
   "cell_type": "code",
   "execution_count": 5,
   "metadata": {},
   "outputs": [
    {
     "data": {
      "image/png": "[encoded data removed]",
      "text/plain": [
       "<Figure size 648x216 with 3 Axes>"
      ]
     },
     "metadata": {
      "needs_background": "light"
     },
     "output_type": "display_data"
    }
   ],
   "source": [
    "g = sns.FacetGrid(diet_df, col=\"Diet\")\n",
    "g.map_dataframe(sns.histplot, x=\"weightChange\", kde=True);"
   ]
  },
  {
   "cell_type": "markdown",
   "metadata": {},
   "source": [
    "# Checking normality"
   ]
  },
  {
   "cell_type": "code",
   "execution_count": 6,
   "metadata": {},
   "outputs": [
    {
     "data": {
      "text/plain": [
       "ShapiroResult(statistic=0.9255314469337463, pvalue=0.07748671621084213)"
      ]
     },
     "execution_count": 6,
     "metadata": {},
     "output_type": "execute_result"
    }
   ],
   "source": [
    "from scipy import stats\n",
    "stats.shapiro(diet1['weightChange'])"
   ]
  },
  {
   "cell_type": "code",
   "execution_count": 7,
   "metadata": {},
   "outputs": [
    {
     "data": {
      "text/plain": [
       "ShapiroResult(statistic=0.9793620705604553, pvalue=0.8721737861633301)"
      ]
     },
     "execution_count": 7,
     "metadata": {},
     "output_type": "execute_result"
    }
   ],
   "source": [
    "stats.shapiro(diet2['weightChange'])"
   ]
  },
  {
   "cell_type": "code",
   "execution_count": 8,
   "metadata": {},
   "outputs": [
    {
     "data": {
      "text/plain": [
       "ShapiroResult(statistic=0.9601252675056458, pvalue=0.37203603982925415)"
      ]
     },
     "execution_count": 8,
     "metadata": {},
     "output_type": "execute_result"
    }
   ],
   "source": [
    "stats.shapiro(diet3['weightChange'])"
   ]
  },
  {
   "cell_type": "markdown",
   "metadata": {},
   "source": [
    "## Result - All 3 are Normal!"
   ]
  },
  {
   "cell_type": "markdown",
   "metadata": {},
   "source": [
    "# Checking Homogeneity of Variance"
   ]
  },
  {
   "cell_type": "code",
   "execution_count": 9,
   "metadata": {},
   "outputs": [
    {
     "data": {
      "text/plain": [
       "LeveneResult(statistic=0.46290764582507116, pvalue=0.6312856401117967)"
      ]
     },
     "execution_count": 9,
     "metadata": {},
     "output_type": "execute_result"
    }
   ],
   "source": [
    "stats.levene(diet1['weightChange'], diet2['weightChange'], diet3['weightChange'])"
   ]
  },
  {
   "cell_type": "markdown",
   "metadata": {},
   "source": [
    "## Result - They're grand!"
   ]
  },
  {
   "cell_type": "markdown",
   "metadata": {},
   "source": [
    "# One way Anova"
   ]
  },
  {
   "cell_type": "code",
   "execution_count": 10,
   "metadata": {},
   "outputs": [
    {
     "data": {
      "text/plain": [
       "F_onewayResult(statistic=5.383104474859926, pvalue=0.006595853108669741)"
      ]
     },
     "execution_count": 10,
     "metadata": {},
     "output_type": "execute_result"
    }
   ],
   "source": [
    "stats.f_oneway(diet1['weightChange'], diet2['weightChange'], diet3['weightChange'])"
   ]
  },
  {
   "cell_type": "markdown",
   "metadata": {},
   "source": [
    "There's a significant difference here ( pvalue=0.006).\n",
    "\n",
    "Can't see a way to do Tukey in scipy.stats, so will use statsmodels here...\n",
    "https://www.statsmodels.org/dev/generated/statsmodels.stats.multicomp.pairwise_tukeyhsd.html<br>\n",
    "https://www.statology.org/tukey-test-python/"
   ]
  },
  {
   "cell_type": "code",
   "execution_count": 11,
   "metadata": {},
   "outputs": [
    {
     "name": "stdout",
     "output_type": "stream",
     "text": [
      "Multiple Comparison of Means - Tukey HSD, FWER=0.05\n",
      "===================================================\n",
      "group1 group2 meandiff p-adj   lower  upper  reject\n",
      "---------------------------------------------------\n",
      "     1      2   -0.032    0.9 -1.6531 1.5891  False\n",
      "     1      3   1.8481 0.0188  0.2567 3.4396   True\n",
      "     2      3   1.8801 0.0152  0.3057 3.4546   True\n",
      "---------------------------------------------------\n"
     ]
    }
   ],
   "source": [
    "from statsmodels.stats.multicomp import pairwise_tukeyhsd\n",
    "\n",
    "\n",
    "tukey = pairwise_tukeyhsd(endog=diet_df['weightChange'],\n",
    "                          groups=diet_df['Diet'],\n",
    "                          alpha=0.05)\n",
    "\n",
    "print(tukey)"
   ]
  },
  {
   "cell_type": "markdown",
   "metadata": {},
   "source": [
    "## Result - Significant result between diets 1&3 and 2&3"
   ]
  },
  {
   "cell_type": "markdown",
   "metadata": {},
   "source": [
    "\n",
    "# Students Dataset\n",
    "\n",
    "The students dataset, made available via [FREIE UNIVERSITÄT BERLIN](https://www.geo.fu-berlin.de/en/v/soga/Basics-of-statistics/ANOVA/One-way-ANOVA-Hypothesis-Test/index.html) contains 8239 across various subject areas, and includes details such as test scores, height, weight, gender, salary, releigion and their salary.\n",
    "\n",
    "For my one-way ANOVA analysis, I will use the Salary as my dependent variable, and the student's Major as my independent variable. A student cannot have two majors, and the future salary of a political science major should (hopefully) have no impact on the salary of an environmental sciences major.\n",
    "\n",
    "## Importing Dataset & Exploratory Data Analysis\n",
    "\n",
    "First, I'll import the data from a CSV file, and do some exploratory data analysis to get an idea of what I'm working with."
   ]
  },
  {
   "cell_type": "code",
   "execution_count": 12,
   "metadata": {
    "scrolled": true
   },
   "outputs": [
    {
     "data": {
      "text/html": [
       "<div>\n",
       "<style scoped>\n",
       "    .dataframe tbody tr th:only-of-type {\n",
       "        vertical-align: middle;\n",
       "    }\n",
       "\n",
       "    .dataframe tbody tr th {\n",
       "        vertical-align: top;\n",
       "    }\n",
       "\n",
       "    .dataframe thead th {\n",
       "        text-align: right;\n",
       "    }\n",
       "</style>\n",
       "<table border=\"1\" class=\"dataframe\">\n",
       "  <thead>\n",
       "    <tr style=\"text-align: right;\">\n",
       "      <th></th>\n",
       "      <th>row</th>\n",
       "      <th>stud.id</th>\n",
       "      <th>name</th>\n",
       "      <th>gender</th>\n",
       "      <th>age</th>\n",
       "      <th>height</th>\n",
       "      <th>weight</th>\n",
       "      <th>religion</th>\n",
       "      <th>nc.score</th>\n",
       "      <th>semester</th>\n",
       "      <th>major</th>\n",
       "      <th>minor</th>\n",
       "      <th>score1</th>\n",
       "      <th>score2</th>\n",
       "      <th>online.tutorial</th>\n",
       "      <th>graduated</th>\n",
       "      <th>salary</th>\n",
       "    </tr>\n",
       "  </thead>\n",
       "  <tbody>\n",
       "    <tr>\n",
       "      <th>0</th>\n",
       "      <td>1</td>\n",
       "      <td>833917</td>\n",
       "      <td>Gonzales, Christina</td>\n",
       "      <td>Female</td>\n",
       "      <td>19</td>\n",
       "      <td>160</td>\n",
       "      <td>64.8</td>\n",
       "      <td>Muslim</td>\n",
       "      <td>1.91</td>\n",
       "      <td>1st</td>\n",
       "      <td>Political Science</td>\n",
       "      <td>Social Sciences</td>\n",
       "      <td>NaN</td>\n",
       "      <td>NaN</td>\n",
       "      <td>0</td>\n",
       "      <td>0</td>\n",
       "      <td>NaN</td>\n",
       "    </tr>\n",
       "    <tr>\n",
       "      <th>1</th>\n",
       "      <td>2</td>\n",
       "      <td>898539</td>\n",
       "      <td>Lozano, T'Hani</td>\n",
       "      <td>Female</td>\n",
       "      <td>19</td>\n",
       "      <td>172</td>\n",
       "      <td>73.0</td>\n",
       "      <td>Other</td>\n",
       "      <td>1.56</td>\n",
       "      <td>2nd</td>\n",
       "      <td>Social Sciences</td>\n",
       "      <td>Mathematics and Statistics</td>\n",
       "      <td>NaN</td>\n",
       "      <td>NaN</td>\n",
       "      <td>0</td>\n",
       "      <td>0</td>\n",
       "      <td>NaN</td>\n",
       "    </tr>\n",
       "    <tr>\n",
       "      <th>2</th>\n",
       "      <td>3</td>\n",
       "      <td>379678</td>\n",
       "      <td>Williams, Hanh</td>\n",
       "      <td>Female</td>\n",
       "      <td>22</td>\n",
       "      <td>168</td>\n",
       "      <td>70.6</td>\n",
       "      <td>Protestant</td>\n",
       "      <td>1.24</td>\n",
       "      <td>3rd</td>\n",
       "      <td>Social Sciences</td>\n",
       "      <td>Mathematics and Statistics</td>\n",
       "      <td>45.0</td>\n",
       "      <td>46.0</td>\n",
       "      <td>0</td>\n",
       "      <td>0</td>\n",
       "      <td>NaN</td>\n",
       "    </tr>\n",
       "    <tr>\n",
       "      <th>3</th>\n",
       "      <td>4</td>\n",
       "      <td>807564</td>\n",
       "      <td>Nem, Denzel</td>\n",
       "      <td>Male</td>\n",
       "      <td>19</td>\n",
       "      <td>183</td>\n",
       "      <td>79.7</td>\n",
       "      <td>Other</td>\n",
       "      <td>1.37</td>\n",
       "      <td>2nd</td>\n",
       "      <td>Environmental Sciences</td>\n",
       "      <td>Mathematics and Statistics</td>\n",
       "      <td>NaN</td>\n",
       "      <td>NaN</td>\n",
       "      <td>0</td>\n",
       "      <td>0</td>\n",
       "      <td>NaN</td>\n",
       "    </tr>\n",
       "    <tr>\n",
       "      <th>4</th>\n",
       "      <td>5</td>\n",
       "      <td>383291</td>\n",
       "      <td>Powell, Heather</td>\n",
       "      <td>Female</td>\n",
       "      <td>21</td>\n",
       "      <td>175</td>\n",
       "      <td>71.4</td>\n",
       "      <td>Catholic</td>\n",
       "      <td>1.46</td>\n",
       "      <td>1st</td>\n",
       "      <td>Environmental Sciences</td>\n",
       "      <td>Mathematics and Statistics</td>\n",
       "      <td>NaN</td>\n",
       "      <td>NaN</td>\n",
       "      <td>0</td>\n",
       "      <td>0</td>\n",
       "      <td>NaN</td>\n",
       "    </tr>\n",
       "  </tbody>\n",
       "</table>\n",
       "</div>"
      ],
      "text/plain": [
       "   row  stud.id                 name  gender  age  height  weight    religion  \\\n",
       "0    1   833917  Gonzales, Christina  Female   19     160    64.8      Muslim   \n",
       "1    2   898539       Lozano, T'Hani  Female   19     172    73.0       Other   \n",
       "2    3   379678       Williams, Hanh  Female   22     168    70.6  Protestant   \n",
       "3    4   807564          Nem, Denzel    Male   19     183    79.7       Other   \n",
       "4    5   383291      Powell, Heather  Female   21     175    71.4    Catholic   \n",
       "\n",
       "   nc.score semester                   major                       minor  \\\n",
       "0      1.91      1st       Political Science             Social Sciences   \n",
       "1      1.56      2nd         Social Sciences  Mathematics and Statistics   \n",
       "2      1.24      3rd         Social Sciences  Mathematics and Statistics   \n",
       "3      1.37      2nd  Environmental Sciences  Mathematics and Statistics   \n",
       "4      1.46      1st  Environmental Sciences  Mathematics and Statistics   \n",
       "\n",
       "   score1  score2  online.tutorial  graduated  salary  \n",
       "0     NaN     NaN                0          0     NaN  \n",
       "1     NaN     NaN                0          0     NaN  \n",
       "2    45.0    46.0                0          0     NaN  \n",
       "3     NaN     NaN                0          0     NaN  \n",
       "4     NaN     NaN                0          0     NaN  "
      ]
     },
     "execution_count": 12,
     "metadata": {},
     "output_type": "execute_result"
    }
   ],
   "source": [
    "students_df = pd.read_csv('https://github.com/OtherBrian/machine-learning/blob/main/datasets/students.csv')\n",
    "\n",
    "students_df.head()"
   ]
  },
  {
   "cell_type": "markdown",
   "metadata": {},
   "source": [
    "Already I can see a few NaN values for salary, and so these will have to be removed from the dataset. ANOVA requires a continuous dependent variable, and so NaN's cannot be included."
   ]
  },
  {
   "cell_type": "code",
   "execution_count": 13,
   "metadata": {},
   "outputs": [
    {
     "data": {
      "text/plain": [
       "1753"
      ]
     },
     "execution_count": 13,
     "metadata": {},
     "output_type": "execute_result"
    }
   ],
   "source": [
    "students_df = students_df[students_df['salary'].notna()]\n",
    "len(students_df)"
   ]
  },
  {
   "cell_type": "markdown",
   "metadata": {},
   "source": [
    "That has substantially reduced the size of the dataset, from the original 8239 students to just 1753. This is still more than enough for ANOVA analysis though. Before moving on I'll confirm that Salary is in fact a continuous variable."
   ]
  },
  {
   "cell_type": "code",
   "execution_count": 14,
   "metadata": {},
   "outputs": [
    {
     "data": {
      "text/plain": [
       "count     1753.000000\n",
       "mean     42522.112364\n",
       "std      10333.139906\n",
       "min      11444.141653\n",
       "25%      35206.541598\n",
       "50%      41672.009748\n",
       "75%      49372.540906\n",
       "max      75596.793441\n",
       "Name: salary, dtype: float64"
      ]
     },
     "execution_count": 14,
     "metadata": {},
     "output_type": "execute_result"
    }
   ],
   "source": [
    "students_df['salary'].describe()"
   ]
  },
  {
   "cell_type": "markdown",
   "metadata": {},
   "source": [
    "All of these values are floating point numbers, and so we can be sure it is a continuous variable. Also we can see that that median (50th percentile) and the mean are very close to each other (41672 and 42552 respectively), and so it's quite likely that these salaries are somewhat normally distributed. I will confirm this on a later step. We can also see that the minimum and maximum values are around 3 standard deviations from the mean, and so there's no major outliers.\n",
    "\n",
    "This fulfills 2 of the 6 assumptions for running an ANOVA.\n",
    "1) The dependent variable is continuous. <br>\n",
    "2) There's no significant outliers.\n",
    "\n",
    "Next I'll look how many possible values we have for \"major\" in order to determine our categorical independent variables."
   ]
  },
  {
   "cell_type": "code",
   "execution_count": 15,
   "metadata": {},
   "outputs": [
    {
     "data": {
      "text/plain": [
       "Environmental Sciences        345\n",
       "Biology                       330\n",
       "Economics and Finance         295\n",
       "Political Science             289\n",
       "Mathematics and Statistics    288\n",
       "Social Sciences               206\n",
       "Name: major, dtype: int64"
      ]
     },
     "execution_count": 15,
     "metadata": {},
     "output_type": "execute_result"
    }
   ],
   "source": [
    "students_df['major'].value_counts()"
   ]
  },
  {
   "cell_type": "markdown",
   "metadata": {},
   "source": [
    "We certainly have more than the 2 categorical groups required for ANOVA, and its not possible for a student to have more than 1 major. This means the dataset fulfils another two of the essential assumptions for ANOVA.<br>\n",
    "3) Two or more independent categorical variables <br>\n",
    "4) Independence of observations\n",
    "\n",
    "## Checking for Normality\n",
    "\n",
    "Next I'll take a look at the distribution of salaries for each of these groups, and determine if they are normally distributed. For this I can use Seaborn's facetgrid to plot multiple histograms. https://seaborn.pydata.org/generated/seaborn.FacetGrid.html"
   ]
  },
  {
   "cell_type": "code",
   "execution_count": 16,
   "metadata": {},
   "outputs": [
    {
     "data": {
      "image/png": "[encoded data removed]",
      "text/plain": [
       "<Figure size 1296x216 with 6 Axes>"
      ]
     },
     "metadata": {
      "needs_background": "light"
     },
     "output_type": "display_data"
    }
   ],
   "source": [
    "g = sns.FacetGrid(students_df, col=\"major\")\n",
    "g.map_dataframe(sns.histplot, x=\"salary\", kde=True);"
   ]
  },
  {
   "cell_type": "markdown",
   "metadata": {},
   "source": [
    "Each of these distributions look to be fairly normally distributed. However to confirm this, I will use the Shapiro-Wilk test(https://docs.scipy.org/doc/scipy/reference/generated/scipy.stats.shapiro.html). This tests a given array for normality, and among its two outputs is the P value. This P value tells us the probability that the given array came from a normal distribution, and so if the P value is greater than 0.05, we can be confident that it fulfills the normality assumption for ANOVA.\n",
    "\n",
    "One thing to keep in mind is that Shaprio-Wilk test should not be used on arrays with more than 5000 observations, as the P-value can become inaccurate. I will go through an alternative test for normality in a later section."
   ]
  },
  {
   "cell_type": "code",
   "execution_count": 17,
   "metadata": {},
   "outputs": [
    {
     "name": "stdout",
     "output_type": "stream",
     "text": [
      "Environmental Sciences P-Value: 0.22378472983837128\n",
      "Biology P-Value: 0.0033741146326065063\n",
      "Economics and Finance P-Value: 0.16668261587619781\n",
      "Political Science P-Value: 0.010123440064489841\n",
      "Mathematics and Statistics P-Value: 0.0942251980304718\n",
      "Social Sciences P-Value: 0.603469967842102\n",
      "\n",
      "Normally distributed independent variables: \n",
      "Environmental Sciences, Economics and Finance, Mathematics and Statistics, Social Sciences\n"
     ]
    }
   ],
   "source": [
    "# Slicing the dataset for each major\n",
    "\n",
    "env_df = students_df[students_df['major'] == 'Environmental Sciences']\n",
    "bio_df = students_df[students_df['major'] == 'Biology']\n",
    "ecf_df = students_df[students_df['major'] == 'Economics and Finance']\n",
    "pos_df = students_df[students_df['major'] == 'Political Science']\n",
    "mas_df = students_df[students_df['major'] == 'Mathematics and Statistics']\n",
    "sos_df = students_df[students_df['major'] == 'Social Sciences']\n",
    "\n",
    "# Creating a dictionary for me to iterate through.\n",
    "df_dict = {'Environmental Sciences': env_df, \n",
    "           'Biology': bio_df, \n",
    "           'Economics and Finance': ecf_df,\n",
    "          'Political Science': pos_df,\n",
    "          'Mathematics and Statistics': mas_df,\n",
    "          'Social Sciences': sos_df}\n",
    "\n",
    "# Creating a list to store the names of any majors that pass the Shapiro-Wilk test\n",
    "normal_independent_variables = []\n",
    "\n",
    "# Perform the Shapiro Wilk test on each dataframe. Print the result, and add to normal_majors if p_value is above 0.05\n",
    "for major, data in df_dict.items():\n",
    "    statistic, p_value = stats.shapiro(data['salary'])\n",
    "    print(f'{major} P-Value: {str(p_value)}')\n",
    "    if p_value >= 0.05:\n",
    "        normal_independent_variables.append(major)\n",
    "        \n",
    "print('\\nNormally distributed independent variables: ')\n",
    "print(*normal_independent_variables, sep = \", \") \n"
   ]
  },
  {
   "cell_type": "markdown",
   "metadata": {},
   "source": [
    "Of the six majors, four are normally distributed. I will therefore continue with these four for now. I will return to the other majors later, as we can run the Kruskal-Wallis H Test instead of ANOVA in such situations. https://statistics.laerd.com/statistical-guides/one-way-anova-statistical-guide-3.php  <br>https://docs.scipy.org/doc/scipy/reference/generated/scipy.stats.kruskal.html\n",
    "\n",
    "## Checking for Homogeneity of Variance\n",
    "\n",
    "I have one assumption left to check - the homogeneity of variance. For this I can use Levene's test (https://docs.scipy.org/doc/scipy/reference/generated/scipy.stats.levene.html). Like the Shapiro-Wilk test, the Levene's test will ouput a P-Value, and if its greater than 0.05 we can assume homogeneity of variance."
   ]
  },
  {
   "cell_type": "code",
   "execution_count": 18,
   "metadata": {},
   "outputs": [
    {
     "name": "stdout",
     "output_type": "stream",
     "text": [
      "1.0769895950989218e-12\n"
     ]
    }
   ],
   "source": [
    "# Doing Levene's test against the four dataframes that passed the normality assumptuon.\n",
    "statistic, p_value = stats.levene(env_df['salary'], \n",
    "                            ecf_df['salary'], \n",
    "                            mas_df['salary'], \n",
    "                            sos_df['salary'])\n",
    "\n",
    "print(p_value)"
   ]
  },
  {
   "cell_type": "markdown",
   "metadata": {},
   "source": [
    "When all four majors are included, the homogeneity of variance assumption is not met. It is still possible to analyse the variance between these majors, however I'll need to use another technique known as Welch's ANOVA. Welch's ANOVA is not currently featured in Scipy.Stats, so I can use Statsmodels (https://www.statsmodels.org/dev/generated/statsmodels.stats.oneway.anova_oneway.html) instead. I will revisit this later.\n",
    "\n",
    "For now, I continue with two majors that do have homogeneity of variance - Economics & Finance, and Maths & Statistics."
   ]
  },
  {
   "cell_type": "code",
   "execution_count": 19,
   "metadata": {},
   "outputs": [
    {
     "name": "stdout",
     "output_type": "stream",
     "text": [
      "0.44704786466598634\n"
     ]
    }
   ],
   "source": [
    "statistic, p_value = stats.levene(ecf_df['salary'], \n",
    "                                 mas_df['salary'])\n",
    "\n",
    "print(p_value)"
   ]
  },
  {
   "cell_type": "markdown",
   "metadata": {},
   "source": [
    "These two have a much higher P-Value, and so meet the last assumption for ANOVA. \n",
    "\n",
    "## ANOVA\n",
    "\n",
    "Although it should be said that when we have just two independent variables, we can instead use the T-test (https://www.statology.org/what-is-the-difference-between-a-t-test-and-an-anova/). For the purposes of this demonstration I will continue with ANOVA for now (https://docs.scipy.org/doc/scipy/reference/generated/scipy.stats.f_oneway.html)."
   ]
  },
  {
   "cell_type": "code",
   "execution_count": 20,
   "metadata": {},
   "outputs": [
    {
     "name": "stdout",
     "output_type": "stream",
     "text": [
      "0.07324612866614046\n"
     ]
    }
   ],
   "source": [
    "statistic, p_value = stats.f_oneway(ecf_df['salary'], mas_df['salary'])\n",
    "\n",
    "print(p_value)"
   ]
  },
  {
   "cell_type": "markdown",
   "metadata": {},
   "source": [
    "This P-Value is above 0.05, and so we cannot say that there is sufficient evidence that the mean salaries of these two groups are statistically significant.\n",
    "\n",
    "### T-Test\n",
    "\n",
    "As mentioned above, with just two categorical variables, we could actually have done a T-Test here and got the same result. https://docs.scipy.org/doc/scipy/reference/generated/scipy.stats.ttest_ind.html"
   ]
  },
  {
   "cell_type": "code",
   "execution_count": 21,
   "metadata": {},
   "outputs": [
    {
     "name": "stdout",
     "output_type": "stream",
     "text": [
      "0.07324612866615295\n"
     ]
    }
   ],
   "source": [
    "statistic, p_value = stats.ttest_ind(ecf_df['salary'], mas_df['salary'])\n",
    "\n",
    "print(p_value)"
   ]
  },
  {
   "cell_type": "markdown",
   "metadata": {},
   "source": [
    "## Welch's ANOVA\n",
    "\n",
    "We saw before that when we ran Levene's test on all four of our normally distributed independent variables, the test found that they did not have homogeneity of variances, and so were not suitable for ANOVA. In situations like this, we can instead use Welch's ANOVA. This is available via the Statsmodels library https://www.statisticshowto.com/welchs-anova/<br>\n",
    "https://www.statsmodels.org/dev/generated/statsmodels.stats.oneway.anova_oneway.html\n",
    "\n"
   ]
  },
  {
   "cell_type": "code",
   "execution_count": 22,
   "metadata": {},
   "outputs": [
    {
     "data": {
      "text/plain": [
       "2.623052455425018e-131"
      ]
     },
     "execution_count": 22,
     "metadata": {},
     "output_type": "execute_result"
    }
   ],
   "source": [
    "statistic, p_value = oneway.anova_oneway([env_df['salary'], \n",
    "                            ecf_df['salary'], \n",
    "                            mas_df['salary'], \n",
    "                            sos_df['salary']])\n",
    "\n",
    "p_value"
   ]
  },
  {
   "cell_type": "markdown",
   "metadata": {},
   "source": [
    "Here we can see that the P-Value is far below 0.05 (the e-131 tells us that there's 130 0's after the decimal point), and so there's certainly a statistical significant difference between these groups. However, it doesn't tell us which groups are significantly different from each other. For this we will need to run a post-hoc test.\n",
    "\n",
    "## Post-Hoc Analysis\n",
    "\n",
    "### Why run Post-Hoc analysis? Why not do a bunch of T-Tests?\n",
    "\n",
    "We generally assume significant if the p-value is less than 0.05. This means there's a 5% chance that we'll make a Type 1 error (https://www.scribbr.com/statistics/type-i-and-type-ii-errors/) and conclude that the results are statistically significant when they are in fact not. However, if we run multiple tests, each with a 5% chance of having a Type 1 error, then the likelihood of there being at least one Type 1 error increases as we do more tests(https://statisticsbyjim.com/anova/post-hoc-tests-anova/). You can find a humorous example of this via the popular webcomic XKCD (https://xkcd.com/882/). Post-Hoc analyses adjust the P-Value for each combination of tests, and thus reduce the risks of making Type 1 errors.\n",
    "\n",
    "For situations where we've been able to use standard ANOVA due to homogeneity of variance, we would be able to use the Tukey's HSD test (https://sciencing.com/what-is-the-tukey-hsd-test-12751748.html). However, in this example I had to use Welch's ANOVA due to the differing variances. Fortunately, there is the Games-Howell Post-Hoc Multiple Comparisons Test which acts very similarly to Tukey's HSD test. At present, the only library I have found this available in is Pinguoin (https://pingouin-stats.org/generated/pingouin.pairwise_gameshowell.html)."
   ]
  },
  {
   "cell_type": "code",
   "execution_count": 24,
   "metadata": {},
   "outputs": [],
   "source": [
    "gameshowell_df = students_df[students_df['major'].isin(normal_independent_variables)]"
   ]
  },
  {
   "cell_type": "code",
   "execution_count": 25,
   "metadata": {
    "scrolled": true
   },
   "outputs": [
    {
     "data": {
      "text/html": [
       "<div>\n",
       "<style scoped>\n",
       "    .dataframe tbody tr th:only-of-type {\n",
       "        vertical-align: middle;\n",
       "    }\n",
       "\n",
       "    .dataframe tbody tr th {\n",
       "        vertical-align: top;\n",
       "    }\n",
       "\n",
       "    .dataframe thead th {\n",
       "        text-align: right;\n",
       "    }\n",
       "</style>\n",
       "<table border=\"1\" class=\"dataframe\">\n",
       "  <thead>\n",
       "    <tr style=\"text-align: right;\">\n",
       "      <th></th>\n",
       "      <th>A</th>\n",
       "      <th>B</th>\n",
       "      <th>mean(A)</th>\n",
       "      <th>mean(B)</th>\n",
       "      <th>diff</th>\n",
       "      <th>se</th>\n",
       "      <th>T</th>\n",
       "      <th>df</th>\n",
       "      <th>pval</th>\n",
       "      <th>hedges</th>\n",
       "    </tr>\n",
       "  </thead>\n",
       "  <tbody>\n",
       "    <tr>\n",
       "      <th>0</th>\n",
       "      <td>Economics and Finance</td>\n",
       "      <td>Environmental Sciences</td>\n",
       "      <td>49696.172</td>\n",
       "      <td>37652.678</td>\n",
       "      <td>12043.494</td>\n",
       "      <td>582.379</td>\n",
       "      <td>20.680</td>\n",
       "      <td>501.087</td>\n",
       "      <td>0.001</td>\n",
       "      <td>1.638</td>\n",
       "    </tr>\n",
       "    <tr>\n",
       "      <th>1</th>\n",
       "      <td>Economics and Finance</td>\n",
       "      <td>Mathematics and Statistics</td>\n",
       "      <td>49696.172</td>\n",
       "      <td>48443.507</td>\n",
       "      <td>1252.665</td>\n",
       "      <td>697.901</td>\n",
       "      <td>1.795</td>\n",
       "      <td>580.968</td>\n",
       "      <td>0.277</td>\n",
       "      <td>0.148</td>\n",
       "    </tr>\n",
       "    <tr>\n",
       "      <th>2</th>\n",
       "      <td>Economics and Finance</td>\n",
       "      <td>Social Sciences</td>\n",
       "      <td>49696.172</td>\n",
       "      <td>32044.006</td>\n",
       "      <td>17652.166</td>\n",
       "      <td>656.922</td>\n",
       "      <td>26.871</td>\n",
       "      <td>497.983</td>\n",
       "      <td>0.001</td>\n",
       "      <td>2.436</td>\n",
       "    </tr>\n",
       "    <tr>\n",
       "      <th>3</th>\n",
       "      <td>Environmental Sciences</td>\n",
       "      <td>Mathematics and Statistics</td>\n",
       "      <td>37652.678</td>\n",
       "      <td>48443.507</td>\n",
       "      <td>-10790.829</td>\n",
       "      <td>580.435</td>\n",
       "      <td>-18.591</td>\n",
       "      <td>492.009</td>\n",
       "      <td>0.001</td>\n",
       "      <td>-1.482</td>\n",
       "    </tr>\n",
       "    <tr>\n",
       "      <th>4</th>\n",
       "      <td>Environmental Sciences</td>\n",
       "      <td>Social Sciences</td>\n",
       "      <td>37652.678</td>\n",
       "      <td>32044.006</td>\n",
       "      <td>5608.672</td>\n",
       "      <td>530.457</td>\n",
       "      <td>10.573</td>\n",
       "      <td>403.291</td>\n",
       "      <td>0.001</td>\n",
       "      <td>0.930</td>\n",
       "    </tr>\n",
       "    <tr>\n",
       "      <th>5</th>\n",
       "      <td>Mathematics and Statistics</td>\n",
       "      <td>Social Sciences</td>\n",
       "      <td>48443.507</td>\n",
       "      <td>32044.006</td>\n",
       "      <td>16399.501</td>\n",
       "      <td>655.199</td>\n",
       "      <td>25.030</td>\n",
       "      <td>491.296</td>\n",
       "      <td>0.001</td>\n",
       "      <td>2.280</td>\n",
       "    </tr>\n",
       "  </tbody>\n",
       "</table>\n",
       "</div>"
      ],
      "text/plain": [
       "                            A                           B    mean(A)  \\\n",
       "0       Economics and Finance      Environmental Sciences  49696.172   \n",
       "1       Economics and Finance  Mathematics and Statistics  49696.172   \n",
       "2       Economics and Finance             Social Sciences  49696.172   \n",
       "3      Environmental Sciences  Mathematics and Statistics  37652.678   \n",
       "4      Environmental Sciences             Social Sciences  37652.678   \n",
       "5  Mathematics and Statistics             Social Sciences  48443.507   \n",
       "\n",
       "     mean(B)       diff       se       T       df   pval  hedges  \n",
       "0  37652.678  12043.494  582.379  20.680  501.087  0.001   1.638  \n",
       "1  48443.507   1252.665  697.901   1.795  580.968  0.277   0.148  \n",
       "2  32044.006  17652.166  656.922  26.871  497.983  0.001   2.436  \n",
       "3  48443.507 -10790.829  580.435 -18.591  492.009  0.001  -1.482  \n",
       "4  32044.006   5608.672  530.457  10.573  403.291  0.001   0.930  \n",
       "5  32044.006  16399.501  655.199  25.030  491.296  0.001   2.280  "
      ]
     },
     "execution_count": 25,
     "metadata": {},
     "output_type": "execute_result"
    }
   ],
   "source": [
    "import pingouin as pg\n",
    "\n",
    "pg.pairwise_gameshowell(data=gameshowell_df, dv='salary',\n",
    "                        between='major').round(3)"
   ]
  },
  {
   "cell_type": "markdown",
   "metadata": {},
   "source": [
    "From this Games-Howell post-hoc multiple comparisons test we can see that most of the above combinations are statistically sigificantly different from each other. The only combination that is not statistically significant is the Economics & Finance and Mathematics & Statistics pairing, which we had already established via the ANOVA and T-Test above."
   ]
  },
  {
   "cell_type": "markdown",
   "metadata": {},
   "source": [
    "# Irish weather Dataset\n",
    "\n",
    "Note - this dataset is not suitable, however it does show when the Shapiro test fails and another test is required.\n",
    "I've also cut the filesize down massively be deleting all counties except Galway!\n",
    "https://www.kaggle.com/conorrot/irish-weather-hourly-data"
   ]
  },
  {
   "cell_type": "code",
   "execution_count": 26,
   "metadata": {},
   "outputs": [],
   "source": [
    "weather_df = pd.read_csv('https://github.com/OtherBrian/machine-learning/blob/main/datasets/irish_weather.csv', usecols=['county', 'station', 'temp'])\n",
    "\n",
    "weather_df['temp'] = weather_df['temp'].str.extract(r'(\\d+.\\d+)').astype('float')\n",
    "weather_df = weather_df[weather_df['temp'].notna()]"
   ]
  },
  {
   "cell_type": "code",
   "execution_count": 27,
   "metadata": {},
   "outputs": [
    {
     "data": {
      "image/png": "[encoded data removed]",
      "text/plain": [
       "<Figure size 432x288 with 1 Axes>"
      ]
     },
     "metadata": {
      "needs_background": "light"
     },
     "output_type": "display_data"
    }
   ],
   "source": [
    "plt.hist(weather_df['temp']);"
   ]
  },
  {
   "cell_type": "code",
   "execution_count": 28,
   "metadata": {},
   "outputs": [
    {
     "data": {
      "text/plain": [
       "ShapiroResult(statistic=0.9876402020454407, pvalue=3.681475222870774e-14)"
      ]
     },
     "execution_count": 28,
     "metadata": {},
     "output_type": "execute_result"
    }
   ],
   "source": [
    "stats.shapiro(weather_df['temp'])"
   ]
  },
  {
   "cell_type": "markdown",
   "metadata": {},
   "source": [
    "Dataset is too large to run Shapiro test, have to use Anderson test https://docs.scipy.org/doc/scipy/reference/generated/scipy.stats.anderson.html"
   ]
  },
  {
   "cell_type": "code",
   "execution_count": 29,
   "metadata": {},
   "outputs": [
    {
     "data": {
      "text/plain": [
       "AndersonResult(statistic=6.609765164403598, critical_values=array([0.575, 0.655, 0.786, 0.917, 1.09 ]), significance_level=array([15. , 10. ,  5. ,  2.5,  1. ]))"
      ]
     },
     "execution_count": 29,
     "metadata": {},
     "output_type": "execute_result"
    }
   ],
   "source": [
    "stats.anderson(weather_df['temp'], dist='norm')"
   ]
  },
  {
   "cell_type": "markdown",
   "metadata": {},
   "source": [
    "Came out false anyway!"
   ]
  }
 ],
 "metadata": {
  "kernelspec": {
   "display_name": "Python 3",
   "language": "python",
   "name": "python3"
  },
  "language_info": {
   "codemirror_mode": {
    "name": "ipython",
    "version": 3
   },
   "file_extension": ".py",
   "mimetype": "text/x-python",
   "name": "python",
   "nbconvert_exporter": "python",
   "pygments_lexer": "ipython3",
   "version": "3.8.5"
  }
 },
 "nbformat": 4,
 "nbformat_minor": 4
}
