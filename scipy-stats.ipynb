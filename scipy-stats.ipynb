{
 "cells": [
  {
   "cell_type": "markdown",
   "metadata": {},
   "source": [
    "# Scipy Stats & Anova\n",
    "\n",
    "This Jupyter Notebook will contain an introduction to the Scipy Stats Python library, as well as an introduction and example of a hypothesis test and ANOVA."
   ]
  },
  {
   "cell_type": "markdown",
   "metadata": {},
   "source": [
    "Resources\n",
    "\n",
    "https://www.youtube.com/watch?v=0Vj2V2qRU10 <br>\n",
    "https://online.stat.psu.edu/stat500/book/export/html/479<br>\n",
    "https://www.scribbr.com/statistics/one-way-anova/<br>\n",
    "https://learning.edanz.com/anova-explained/<br>\n",
    "https://www.statisticssolutions.com/free-resources/directory-of-statistical-analyses/anova/<br>\n",
    "https://towardsdatascience.com/analysis-of-variance-anova-8dc889d2fc3a<br>\n",
    "https://towardsdatascience.com/what-is-anova-and-when-do-we-use-it-e0dcd8759c4e<br>\n",
    "https://medium.com/@peterflom/anova-why-analyze-variances-to-compare-means-e3d4bbd3c05<br>\n",
    "https://towardsdatascience.com/anovas-three-types-of-estimating-sums-of-squares-don-t-make-the-wrong-choice-91107c77a27a<br>\n",
    "https://medium.com/omarelgabrys-blog/statistics-probability-t-distribution-anova-d1422928e3a<br>"
   ]
  },
  {
   "cell_type": "markdown",
   "metadata": {},
   "source": [
    "## More Resources\n",
    "\n",
    "Anova tutorial - https://statistics.laerd.com/spss-tutorials/one-way-anova-using-spss-statistics.php\n",
    "* Mentions using a Tukey test post-hoc to see which groups had the difference<br>\n",
    "6 assumptions: <br>\n",
    "1) dependent variable is continuous, <br>\n",
    "2) indepedent variables across 2 or 3 categories at least,<br> \n",
    "3) independence of observations (no observation can be in multiple categories), <br>\n",
    "4) no significant outliers, <br>\n",
    "5) dependent variable is normally distributed for each category, <br>\n",
    "6) homogeneity of variances.<br>\n",
    "\n",
    "\n",
    "Ancova tutorial - https://statistics.laerd.com/spss-tutorials/ancova-using-spss-statistics.php\n",
    "* Similar to ANOVA but allows you to control for a 3rd measurement. e.g. if I'm looking at exercise and heartrate, but want to control for age.\n",
    "\n",
    "Normality tests in python - https://machinelearningmastery.com/a-gentle-introduction-to-normality-tests-in-python/\n",
    "* Dependent variable has to be normally distributed for each category.\n",
    "* Can be done in scipy - https://docs.scipy.org/doc/scipy/reference/generated/scipy.stats.shapiro.html\n",
    "\n",
    "Homogeneity of variances in Python - https://www.statology.org/levenes-test-python/\n",
    "* https://www.marsja.se/levenes-bartletts-test-of-equality-homogeneity-of-variance-in-python/\n",
    "* Also in Scipy - https://docs.scipy.org/doc/scipy/reference/generated/scipy.stats.levene.html"
   ]
  },
  {
   "cell_type": "markdown",
   "metadata": {},
   "source": [
    "# Diet Dataset\n",
    "\n",
    "Diet dataset - https://www.sheffield.ac.uk/mash/statistics/datasets\n",
    "* Has 3 diet types\n",
    "* Can look at differences in gender and age brackets\n",
    "\n"
   ]
  },
  {
   "cell_type": "code",
   "execution_count": 1,
   "metadata": {},
   "outputs": [],
   "source": [
    "import pandas as pd\n",
    "import matplotlib.pyplot as plt\n",
    "import seaborn as sns\n",
    "import numpy as np"
   ]
  },
  {
   "cell_type": "code",
   "execution_count": 2,
   "metadata": {
    "scrolled": true
   },
   "outputs": [
    {
     "data": {
      "text/html": [
       "<div>\n",
       "<style scoped>\n",
       "    .dataframe tbody tr th:only-of-type {\n",
       "        vertical-align: middle;\n",
       "    }\n",
       "\n",
       "    .dataframe tbody tr th {\n",
       "        vertical-align: top;\n",
       "    }\n",
       "\n",
       "    .dataframe thead th {\n",
       "        text-align: right;\n",
       "    }\n",
       "</style>\n",
       "<table border=\"1\" class=\"dataframe\">\n",
       "  <thead>\n",
       "    <tr style=\"text-align: right;\">\n",
       "      <th></th>\n",
       "      <th>Person</th>\n",
       "      <th>gender</th>\n",
       "      <th>Age</th>\n",
       "      <th>Height</th>\n",
       "      <th>pre.weight</th>\n",
       "      <th>Diet</th>\n",
       "      <th>weight6weeks</th>\n",
       "      <th>weightChange</th>\n",
       "    </tr>\n",
       "  </thead>\n",
       "  <tbody>\n",
       "    <tr>\n",
       "      <th>2</th>\n",
       "      <td>1</td>\n",
       "      <td>0</td>\n",
       "      <td>22</td>\n",
       "      <td>159</td>\n",
       "      <td>58</td>\n",
       "      <td>1</td>\n",
       "      <td>54.2</td>\n",
       "      <td>3.8</td>\n",
       "    </tr>\n",
       "    <tr>\n",
       "      <th>3</th>\n",
       "      <td>2</td>\n",
       "      <td>0</td>\n",
       "      <td>46</td>\n",
       "      <td>192</td>\n",
       "      <td>60</td>\n",
       "      <td>1</td>\n",
       "      <td>54.0</td>\n",
       "      <td>6.0</td>\n",
       "    </tr>\n",
       "    <tr>\n",
       "      <th>4</th>\n",
       "      <td>3</td>\n",
       "      <td>0</td>\n",
       "      <td>55</td>\n",
       "      <td>170</td>\n",
       "      <td>64</td>\n",
       "      <td>1</td>\n",
       "      <td>63.3</td>\n",
       "      <td>0.7</td>\n",
       "    </tr>\n",
       "    <tr>\n",
       "      <th>5</th>\n",
       "      <td>4</td>\n",
       "      <td>0</td>\n",
       "      <td>33</td>\n",
       "      <td>171</td>\n",
       "      <td>64</td>\n",
       "      <td>1</td>\n",
       "      <td>61.1</td>\n",
       "      <td>2.9</td>\n",
       "    </tr>\n",
       "    <tr>\n",
       "      <th>6</th>\n",
       "      <td>5</td>\n",
       "      <td>0</td>\n",
       "      <td>50</td>\n",
       "      <td>170</td>\n",
       "      <td>65</td>\n",
       "      <td>1</td>\n",
       "      <td>62.2</td>\n",
       "      <td>2.8</td>\n",
       "    </tr>\n",
       "  </tbody>\n",
       "</table>\n",
       "</div>"
      ],
      "text/plain": [
       "   Person gender  Age  Height  pre.weight  Diet  weight6weeks  weightChange\n",
       "2       1      0   22     159          58     1          54.2           3.8\n",
       "3       2      0   46     192          60     1          54.0           6.0\n",
       "4       3      0   55     170          64     1          63.3           0.7\n",
       "5       4      0   33     171          64     1          61.1           2.9\n",
       "6       5      0   50     170          65     1          62.2           2.8"
      ]
     },
     "execution_count": 2,
     "metadata": {},
     "output_type": "execute_result"
    }
   ],
   "source": [
    "diet_df = pd.read_csv('./possible-datasets/Diet_R.csv')\n",
    "\n",
    "# A few observations don't have a value for gender, and have no difference in pre/post weight. Removing these.\n",
    "diet_df = diet_df[diet_df['gender'].isin(['0', '1'])]\n",
    "\n",
    "# Going to measure the weight change from each diet \n",
    "diet_df['weightChange'] = diet_df['pre.weight'] - diet_df['weight6weeks']\n",
    "\n",
    "diet_df.head()"
   ]
  },
  {
   "cell_type": "code",
   "execution_count": 3,
   "metadata": {},
   "outputs": [
    {
     "data": {
      "text/plain": [
       "3    27\n",
       "2    25\n",
       "1    24\n",
       "Name: Diet, dtype: int64"
      ]
     },
     "execution_count": 3,
     "metadata": {},
     "output_type": "execute_result"
    }
   ],
   "source": [
    "# Check how many I have in each group\n",
    "\n",
    "diet_df['Diet'].value_counts()"
   ]
  },
  {
   "cell_type": "code",
   "execution_count": 4,
   "metadata": {},
   "outputs": [],
   "source": [
    "# Splitting into DataFrames for each of the diets.\n",
    "\n",
    "diet1 = diet_df[diet_df['Diet'] == 1]\n",
    "diet2 = diet_df[diet_df['Diet'] == 2]\n",
    "diet3 = diet_df[diet_df['Diet'] == 3]"
   ]
  },
  {
   "cell_type": "markdown",
   "metadata": {},
   "source": [
    "# EDA"
   ]
  },
  {
   "cell_type": "code",
   "execution_count": 5,
   "metadata": {},
   "outputs": [
    {
     "data": {
      "image/png": "[encoded data removed]",
      "text/plain": [
       "<Figure size 432x288 with 1 Axes>"
      ]
     },
     "metadata": {
      "needs_background": "light"
     },
     "output_type": "display_data"
    }
   ],
   "source": [
    "# Diet 1\n",
    "\n",
    "plt.hist(diet1['weightChange']);"
   ]
  },
  {
   "cell_type": "code",
   "execution_count": 6,
   "metadata": {},
   "outputs": [
    {
     "data": {
      "image/png": "[encoded data removed]",
      "text/plain": [
       "<Figure size 432x288 with 1 Axes>"
      ]
     },
     "metadata": {
      "needs_background": "light"
     },
     "output_type": "display_data"
    }
   ],
   "source": [
    "# Diet 2\n",
    "\n",
    "plt.hist(diet2['weightChange']);"
   ]
  },
  {
   "cell_type": "code",
   "execution_count": 7,
   "metadata": {
    "scrolled": true
   },
   "outputs": [
    {
     "data": {
      "image/png": "[encoded data removed]",
      "text/plain": [
       "<Figure size 432x288 with 1 Axes>"
      ]
     },
     "metadata": {
      "needs_background": "light"
     },
     "output_type": "display_data"
    }
   ],
   "source": [
    "# Diet 3\n",
    "\n",
    "plt.hist(diet3['weightChange']);"
   ]
  },
  {
   "cell_type": "code",
   "execution_count": 8,
   "metadata": {},
   "outputs": [
    {
     "data": {
      "image/png": "[encoded data removed]",
      "text/plain": [
       "<Figure size 432x288 with 1 Axes>"
      ]
     },
     "metadata": {
      "needs_background": "light"
     },
     "output_type": "display_data"
    }
   ],
   "source": [
    "sns.histplot(data=diet_df, x='weightChange', hue='Diet', kde=True);"
   ]
  },
  {
   "cell_type": "markdown",
   "metadata": {},
   "source": [
    "# Checking normality"
   ]
  },
  {
   "cell_type": "code",
   "execution_count": 9,
   "metadata": {},
   "outputs": [
    {
     "data": {
      "text/plain": [
       "ShapiroResult(statistic=0.9255314469337463, pvalue=0.07748671621084213)"
      ]
     },
     "execution_count": 9,
     "metadata": {},
     "output_type": "execute_result"
    }
   ],
   "source": [
    "from scipy import stats\n",
    "stats.shapiro(diet1['weightChange'])"
   ]
  },
  {
   "cell_type": "code",
   "execution_count": 10,
   "metadata": {},
   "outputs": [
    {
     "data": {
      "text/plain": [
       "ShapiroResult(statistic=0.9793620705604553, pvalue=0.8721737861633301)"
      ]
     },
     "execution_count": 10,
     "metadata": {},
     "output_type": "execute_result"
    }
   ],
   "source": [
    "stats.shapiro(diet2['weightChange'])"
   ]
  },
  {
   "cell_type": "code",
   "execution_count": 11,
   "metadata": {},
   "outputs": [
    {
     "data": {
      "text/plain": [
       "ShapiroResult(statistic=0.9601252675056458, pvalue=0.37203603982925415)"
      ]
     },
     "execution_count": 11,
     "metadata": {},
     "output_type": "execute_result"
    }
   ],
   "source": [
    "stats.shapiro(diet3['weightChange'])"
   ]
  },
  {
   "cell_type": "markdown",
   "metadata": {},
   "source": [
    "## Result - All 3 are Normal!"
   ]
  },
  {
   "cell_type": "markdown",
   "metadata": {},
   "source": [
    "# Checking Homogeneity of Variance"
   ]
  },
  {
   "cell_type": "code",
   "execution_count": 12,
   "metadata": {},
   "outputs": [
    {
     "data": {
      "text/plain": [
       "LeveneResult(statistic=0.46290764582507116, pvalue=0.6312856401117967)"
      ]
     },
     "execution_count": 12,
     "metadata": {},
     "output_type": "execute_result"
    }
   ],
   "source": [
    "stats.levene(diet1['weightChange'], diet2['weightChange'], diet3['weightChange'])"
   ]
  },
  {
   "cell_type": "markdown",
   "metadata": {},
   "source": [
    "## Result - They're grand!"
   ]
  },
  {
   "cell_type": "markdown",
   "metadata": {},
   "source": [
    "# One way Anova"
   ]
  },
  {
   "cell_type": "code",
   "execution_count": 13,
   "metadata": {},
   "outputs": [
    {
     "data": {
      "text/plain": [
       "F_onewayResult(statistic=5.383104474859926, pvalue=0.006595853108669741)"
      ]
     },
     "execution_count": 13,
     "metadata": {},
     "output_type": "execute_result"
    }
   ],
   "source": [
    "stats.f_oneway(diet1['weightChange'], diet2['weightChange'], diet3['weightChange'])"
   ]
  },
  {
   "cell_type": "markdown",
   "metadata": {},
   "source": [
    "There's a significant difference here ( pvalue=0.006).\n",
    "\n",
    "Can't see a way to do Tukey in scipy.stats, so will use statsmodels here...\n",
    "https://www.statsmodels.org/dev/generated/statsmodels.stats.multicomp.pairwise_tukeyhsd.html<br>\n",
    "https://www.statology.org/tukey-test-python/"
   ]
  },
  {
   "cell_type": "code",
   "execution_count": 14,
   "metadata": {},
   "outputs": [
    {
     "name": "stdout",
     "output_type": "stream",
     "text": [
      "Multiple Comparison of Means - Tukey HSD, FWER=0.05\n",
      "===================================================\n",
      "group1 group2 meandiff p-adj   lower  upper  reject\n",
      "---------------------------------------------------\n",
      "     1      2   -0.032    0.9 -1.6531 1.5891  False\n",
      "     1      3   1.8481 0.0188  0.2567 3.4396   True\n",
      "     2      3   1.8801 0.0152  0.3057 3.4546   True\n",
      "---------------------------------------------------\n"
     ]
    }
   ],
   "source": [
    "from statsmodels.stats.multicomp import pairwise_tukeyhsd\n",
    "\n",
    "\n",
    "tukey = pairwise_tukeyhsd(endog=diet_df['weightChange'],\n",
    "                          groups=diet_df['Diet'],\n",
    "                          alpha=0.05)\n",
    "\n",
    "print(tukey)"
   ]
  },
  {
   "cell_type": "markdown",
   "metadata": {},
   "source": [
    "## Result - Significant result between diets 1&3 and 2&3"
   ]
  },
  {
   "cell_type": "markdown",
   "metadata": {},
   "source": [
    "# Other Datasets\n",
    "\n",
    "Tsunami dataset <br>\n",
    "https://www.kaggle.com/noaa/seismic-waves <br>\n",
    "https://www.ngdc.noaa.gov/hazel/view/hazards/tsunami/event-search<br>"
   ]
  },
  {
   "cell_type": "code",
   "execution_count": 15,
   "metadata": {},
   "outputs": [
    {
     "data": {
      "text/plain": [
       "Index(['SOURCE_ID', 'YEAR', 'MONTH', 'DAY', 'HOUR', 'MINUTE', 'CAUSE',\n",
       "       'VALIDITY', 'FOCAL_DEPTH', 'PRIMARY_MAGNITUDE', 'REGION_CODE',\n",
       "       'COUNTRY', 'STATE/PROVINCE', 'LOCATION', 'LATITUDE', 'LONGITUDE',\n",
       "       'MAXIMUM_HEIGHT', 'MAGNITUDE_ABE', 'MAGNITUDE_IIDA',\n",
       "       'INTENSITY_SOLOVIEV', 'WARNING_STATUS', 'MISSING', 'MISSING_ESTIMATE',\n",
       "       'INJURIES', 'INJURY_ESTIMATE', 'FATALITIES', 'FATALITY_ESTIMATE',\n",
       "       'DAMAGE_MILLIONS_DOLLARS', 'DAMAGE_ESTIMATE', 'HOUSES_DAMAGED',\n",
       "       'HOUSE_DAMAGE_ESTIMATE', 'HOUSES_DESTROYED',\n",
       "       'HOUSE_DESTRUCTION_ESTIMATE', 'ALL_MISSING', 'MISSING_TOTAL',\n",
       "       'ALL_INJURIES', 'INJURY_TOTAL', 'ALL_FATALITIES', 'FATALITY_TOTAL',\n",
       "       'ALL_DAMAGE_MILLIONS', 'DAMAGE_TOTAL', 'ALL_HOUSES_DAMAGED',\n",
       "       'HOUSE_DAMAGE_TOTAL', 'ALL_HOUSES_DESTROYED',\n",
       "       'HOUSE_DESTRUCTION_TOTAL'],\n",
       "      dtype='object')"
      ]
     },
     "execution_count": 15,
     "metadata": {},
     "output_type": "execute_result"
    }
   ],
   "source": [
    "tsunami_df = pd.read_csv('./possible-datasets/sources.csv')\n",
    "\n",
    "tsunami_df.columns"
   ]
  },
  {
   "cell_type": "code",
   "execution_count": 16,
   "metadata": {},
   "outputs": [],
   "source": [
    "tsunami_df = tsunami_df[tsunami_df['PRIMARY_MAGNITUDE'].notna()]"
   ]
  },
  {
   "cell_type": "code",
   "execution_count": 17,
   "metadata": {},
   "outputs": [],
   "source": [
    "japan_tsunami = tsunami_df[tsunami_df['COUNTRY'] == 'JAPAN']\n",
    "indonesia_tsunami = tsunami_df[tsunami_df['COUNTRY'] == 'INDONESIA']\n",
    "chile_tsunami = tsunami_df[tsunami_df['COUNTRY'] == 'CHILE']\n",
    "greece_tsunami = tsunami_df[tsunami_df['COUNTRY'] == 'GREECE']\n",
    "usa_tsunami = tsunami_df[tsunami_df['COUNTRY'] == 'USA']\n",
    "philippines_tsunami = tsunami_df[tsunami_df['COUNTRY'] == 'PHILIPPINES']\n",
    "italy_tsunami = tsunami_df[tsunami_df['COUNTRY'] == 'ITALY']"
   ]
  },
  {
   "cell_type": "code",
   "execution_count": 18,
   "metadata": {},
   "outputs": [
    {
     "data": {
      "image/png": "[encoded data removed]",
      "text/plain": [
       "<Figure size 432x288 with 1 Axes>"
      ]
     },
     "metadata": {
      "needs_background": "light"
     },
     "output_type": "display_data"
    }
   ],
   "source": [
    "plt.hist(tsunami_df['PRIMARY_MAGNITUDE']);"
   ]
  },
  {
   "cell_type": "code",
   "execution_count": 19,
   "metadata": {
    "scrolled": true
   },
   "outputs": [
    {
     "data": {
      "text/plain": [
       "ShapiroResult(statistic=0.967490553855896, pvalue=0.2584373950958252)"
      ]
     },
     "execution_count": 19,
     "metadata": {},
     "output_type": "execute_result"
    },
    {
     "data": {
      "image/png": "[encoded data removed]",
      "text/plain": [
       "<Figure size 432x288 with 1 Axes>"
      ]
     },
     "metadata": {
      "needs_background": "light"
     },
     "output_type": "display_data"
    }
   ],
   "source": [
    "plt.hist(italy_tsunami['PRIMARY_MAGNITUDE']);\n",
    "\n",
    "stats.shapiro(italy_tsunami['PRIMARY_MAGNITUDE'])"
   ]
  },
  {
   "cell_type": "code",
   "execution_count": 20,
   "metadata": {},
   "outputs": [
    {
     "data": {
      "text/plain": [
       "LeveneResult(statistic=2.8013265938237155, pvalue=0.039734685046353434)"
      ]
     },
     "execution_count": 20,
     "metadata": {},
     "output_type": "execute_result"
    }
   ],
   "source": [
    "stats.levene(indonesia_tsunami['PRIMARY_MAGNITUDE'], \n",
    "             chile_tsunami['PRIMARY_MAGNITUDE'], \n",
    "             usa_tsunami['PRIMARY_MAGNITUDE'], \n",
    "             philippines_tsunami['PRIMARY_MAGNITUDE'])\n"
   ]
  },
  {
   "cell_type": "markdown",
   "metadata": {},
   "source": [
    "## USA, Chile, Indonesia & Philippines are OK to use. P>0.05\n",
    "## Homogeneity is only 0.039 so will need to use another variation of ANOVA."
   ]
  },
  {
   "cell_type": "markdown",
   "metadata": {},
   "source": [
    "# Irish weather Dataset\n",
    "\n",
    "Note - this dataset is not suitable, however it does show when the Shapiro test fails and another test is required.\n",
    "I've also cut the filesize down massively be deleting all counties except Galway!\n",
    "https://www.kaggle.com/conorrot/irish-weather-hourly-data"
   ]
  },
  {
   "cell_type": "code",
   "execution_count": 21,
   "metadata": {},
   "outputs": [
    {
     "name": "stderr",
     "output_type": "stream",
     "text": [
      "/Users/Brian/opt/anaconda3/lib/python3.8/site-packages/IPython/core/interactiveshell.py:3146: DtypeWarning: Columns (6) have mixed types.Specify dtype option on import or set low_memory=False.\n",
      "  has_raised = await self.run_ast_nodes(code_ast.body, cell_name,\n"
     ]
    }
   ],
   "source": [
    "weather_df = pd.read_csv('./possible-datasets/hrly_Irish_weather.csv', usecols=['county', 'station', 'temp'])\n",
    "\n",
    "weather_df['temp'] = weather_df['temp'].str.extract(r'(\\d+.\\d+)').astype('float')\n",
    "weather_df = weather_df[weather_df['temp'].notna()]"
   ]
  },
  {
   "cell_type": "code",
   "execution_count": 28,
   "metadata": {},
   "outputs": [
    {
     "data": {
      "image/png": "[encoded data removed]",
      "text/plain": [
       "<Figure size 432x288 with 1 Axes>"
      ]
     },
     "metadata": {
      "needs_background": "light"
     },
     "output_type": "display_data"
    }
   ],
   "source": [
    "plt.hist(weather_df['temp']);"
   ]
  },
  {
   "cell_type": "code",
   "execution_count": 29,
   "metadata": {},
   "outputs": [
    {
     "name": "stderr",
     "output_type": "stream",
     "text": [
      "/Users/Brian/opt/anaconda3/lib/python3.8/site-packages/scipy/stats/morestats.py:1681: UserWarning: p-value may not be accurate for N > 5000.\n",
      "  warnings.warn(\"p-value may not be accurate for N > 5000.\")\n"
     ]
    },
    {
     "data": {
      "text/plain": [
       "ShapiroResult(statistic=0.9907283782958984, pvalue=1.8031390158499946e-39)"
      ]
     },
     "execution_count": 29,
     "metadata": {},
     "output_type": "execute_result"
    }
   ],
   "source": [
    "stats.shapiro(weather_df['temp'])"
   ]
  },
  {
   "cell_type": "markdown",
   "metadata": {},
   "source": [
    "Dataset is too large to run Shapiro test, have to use Anderson test https://docs.scipy.org/doc/scipy/reference/generated/scipy.stats.anderson.html"
   ]
  },
  {
   "cell_type": "code",
   "execution_count": 30,
   "metadata": {},
   "outputs": [
    {
     "data": {
      "text/plain": [
       "AndersonResult(statistic=44.98928481940675, critical_values=array([0.576, 0.656, 0.787, 0.918, 1.092]), significance_level=array([15. , 10. ,  5. ,  2.5,  1. ]))"
      ]
     },
     "execution_count": 30,
     "metadata": {},
     "output_type": "execute_result"
    }
   ],
   "source": [
    "stats.anderson(weather_df['temp'], dist='norm')"
   ]
  },
  {
   "cell_type": "markdown",
   "metadata": {},
   "source": [
    "Came out false anyway!"
   ]
  }
 ],
 "metadata": {
  "kernelspec": {
   "display_name": "Python 3",
   "language": "python",
   "name": "python3"
  },
  "language_info": {
   "codemirror_mode": {
    "name": "ipython",
    "version": 3
   },
   "file_extension": ".py",
   "mimetype": "text/x-python",
   "name": "python",
   "nbconvert_exporter": "python",
   "pygments_lexer": "ipython3",
   "version": "3.8.5"
  }
 },
 "nbformat": 4,
 "nbformat_minor": 4
}
