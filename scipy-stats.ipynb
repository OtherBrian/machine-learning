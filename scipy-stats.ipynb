{
 "cells": [
  {
   "cell_type": "markdown",
   "metadata": {},
   "source": [
    "# Scipy Stats & Anova\n",
    "\n",
    "This Jupyter Notebook will contain an introduction to the Scipy Stats Python library, as well as an introduction and example of a hypothesis test and ANOVA."
   ]
  },
  {
   "cell_type": "markdown",
   "metadata": {},
   "source": [
    "Resources\n",
    "\n",
    "https://www.youtube.com/watch?v=0Vj2V2qRU10 <br>\n",
    "https://online.stat.psu.edu/stat500/book/export/html/479<br>\n",
    "https://www.scribbr.com/statistics/one-way-anova/<br>\n",
    "https://learning.edanz.com/anova-explained/<br>\n",
    "https://www.statisticssolutions.com/free-resources/directory-of-statistical-analyses/anova/<br>\n",
    "https://towardsdatascience.com/analysis-of-variance-anova-8dc889d2fc3a<br>\n",
    "https://towardsdatascience.com/what-is-anova-and-when-do-we-use-it-e0dcd8759c4e<br>\n",
    "https://medium.com/@peterflom/anova-why-analyze-variances-to-compare-means-e3d4bbd3c05<br>\n",
    "https://towardsdatascience.com/anovas-three-types-of-estimating-sums-of-squares-don-t-make-the-wrong-choice-91107c77a27a<br>\n",
    "https://medium.com/omarelgabrys-blog/statistics-probability-t-distribution-anova-d1422928e3a<br>"
   ]
  }
 ],
 "metadata": {
  "kernelspec": {
   "display_name": "Python 3",
   "language": "python",
   "name": "python3"
  },
  "language_info": {
   "codemirror_mode": {
    "name": "ipython",
    "version": 3
   },
   "file_extension": ".py",
   "mimetype": "text/x-python",
   "name": "python",
   "nbconvert_exporter": "python",
   "pygments_lexer": "ipython3",
   "version": "3.8.5"
  }
 },
 "nbformat": 4,
 "nbformat_minor": 4
}
