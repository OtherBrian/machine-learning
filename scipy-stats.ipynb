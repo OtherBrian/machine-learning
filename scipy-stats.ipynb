{
 "cells": [
  {
   "cell_type": "markdown",
   "metadata": {},
   "source": [
    "# Scipy Stats & Anova\n",
    "\n",
    "This Jupyter Notebook will contain an introduction to the Scipy Stats Python library, as well as an introduction and example of a hypothesis test and ANOVA."
   ]
  },
  {
   "cell_type": "markdown",
   "metadata": {},
   "source": [
    "Resources\n",
    "\n",
    "https://www.youtube.com/watch?v=0Vj2V2qRU10 <br>\n",
    "https://online.stat.psu.edu/stat500/book/export/html/479<br>\n",
    "https://www.scribbr.com/statistics/one-way-anova/<br>\n",
    "https://learning.edanz.com/anova-explained/<br>\n",
    "https://www.statisticssolutions.com/free-resources/directory-of-statistical-analyses/anova/<br>\n",
    "https://towardsdatascience.com/analysis-of-variance-anova-8dc889d2fc3a<br>\n",
    "https://towardsdatascience.com/what-is-anova-and-when-do-we-use-it-e0dcd8759c4e<br>\n",
    "https://medium.com/@peterflom/anova-why-analyze-variances-to-compare-means-e3d4bbd3c05<br>\n",
    "https://towardsdatascience.com/anovas-three-types-of-estimating-sums-of-squares-don-t-make-the-wrong-choice-91107c77a27a<br>\n",
    "https://medium.com/omarelgabrys-blog/statistics-probability-t-distribution-anova-d1422928e3a<br>"
   ]
  },
  {
   "cell_type": "markdown",
   "metadata": {},
   "source": [
    "## More Resources\n",
    "\n",
    "Anova tutorial - https://statistics.laerd.com/spss-tutorials/one-way-anova-using-spss-statistics.php\n",
    "* Mentions using a Tukey test post-hoc to see which groups had the difference<br>\n",
    "6 assumptions: <br>\n",
    "1) dependent variable is continuous, <br>\n",
    "2) indepedent variables across 2 or 3 categories at least,<br> \n",
    "3) independence of observations (no observation can be in multiple categories), <br>\n",
    "4) no significant outliers, <br>\n",
    "5) dependent variable is normally distributed for each category, <br>\n",
    "6) homogeneity of variances.<br>\n",
    "\n",
    "\n",
    "Ancova tutorial - https://statistics.laerd.com/spss-tutorials/ancova-using-spss-statistics.php\n",
    "* Similar to ANOVA but allows you to control for a 3rd measurement. e.g. if I'm looking at exercise and heartrate, but want to control for age.\n",
    "\n",
    "Normality tests in python - https://machinelearningmastery.com/a-gentle-introduction-to-normality-tests-in-python/\n",
    "* Dependent variable has to be normally distributed for each category.\n",
    "* Can be done in scipy - https://docs.scipy.org/doc/scipy/reference/generated/scipy.stats.shapiro.html\n",
    "\n",
    "Homogeneity of variances in Python - https://www.statology.org/levenes-test-python/\n",
    "* https://www.marsja.se/levenes-bartletts-test-of-equality-homogeneity-of-variance-in-python/\n",
    "* Also in Scipy - https://docs.scipy.org/doc/scipy/reference/generated/scipy.stats.levene.html"
   ]
  },
  {
   "cell_type": "markdown",
   "metadata": {},
   "source": [
    "## Possible datasets\n",
    "\n",
    "Diet dataset - https://www.sheffield.ac.uk/mash/statistics/datasets\n",
    "* Has 2 diet types\n",
    "* Can look at differences in gender and age brackets\n",
    "\n"
   ]
  },
  {
   "cell_type": "code",
   "execution_count": 25,
   "metadata": {},
   "outputs": [],
   "source": [
    "import pandas as pd\n",
    "import matplotlib.pyplot as plt\n",
    "import seaborn as sns\n",
    "\n"
   ]
  },
  {
   "cell_type": "code",
   "execution_count": null,
   "metadata": {},
   "outputs": [],
   "source": []
  }
 ],
 "metadata": {
  "kernelspec": {
   "display_name": "Python 3",
   "language": "python",
   "name": "python3"
  },
  "language_info": {
   "codemirror_mode": {
    "name": "ipython",
    "version": 3
   },
   "file_extension": ".py",
   "mimetype": "text/x-python",
   "name": "python",
   "nbconvert_exporter": "python",
   "pygments_lexer": "ipython3",
   "version": "3.8.5"
  }
 },
 "nbformat": 4,
 "nbformat_minor": 4
}
